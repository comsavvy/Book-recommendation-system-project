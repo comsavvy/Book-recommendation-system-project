{
 "cells": [
  {
   "cell_type": "markdown",
   "metadata": {},
   "source": [
    "# Deep Learning $for$ Book Recommending System\n",
    "This is a project on a Recommendation system that suggest different books to users based on their past behavior i.e., likings and ratings. \n",
    "## About the dataset:\n",
    "The Book-Crossing dataset can be found on the following website:\n",
    "\n",
    "http://www2.informatik.uni-freiburg.de/~cziegler/BX/\n",
    "\n",
    "This dataset is a collaborative filtering dataset and contains information about users, books, and ratings. It was collected by Cai-Nicolas Ziegler in a 4-week crawl (August / September 2004) from the Book-Crossing community, and contains 278,858 users (anonymized) providing 1,149,780 ratings (explicit / implicit) about 271,379 books."
   ]
  },
  {
   "cell_type": "code",
   "execution_count": null,
   "metadata": {},
   "outputs": [],
   "source": []
  }
 ],
 "metadata": {
  "language_info": {
   "name": "python"
  },
  "orig_nbformat": 4
 },
 "nbformat": 4,
 "nbformat_minor": 2
}
