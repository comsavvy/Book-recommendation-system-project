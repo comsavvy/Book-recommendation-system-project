{
 "cells": [
  {
   "cell_type": "markdown",
   "metadata": {},
   "source": [
    "# Deep Learning $for$ Book Recommending System\n",
    "This is a project on a Recommendation system that suggest different books to users based on their past behavior i.e., likings and ratings. \n",
    "## About the dataset:\n",
    "The Book-Crossing dataset can be found on the following website:\n",
    "\n",
    "http://www2.informatik.uni-freiburg.de/~cziegler/BX/\n",
    "\n",
    "This dataset is a collaborative filtering dataset and contains information about users, books, and ratings. It was collected by Cai-Nicolas Ziegler in a 4-week crawl (August / September 2004) from the Book-Crossing community, and contains 278,858 users (anonymized) providing 1,149,780 ratings (explicit / implicit) about 271,379 books."
   ]
  },
  {
   "attachments": {},
   "cell_type": "markdown",
   "metadata": {},
   "source": [
    "## Load all necessary libraries\n",
    "This section is about importing all libraries that will make the project walkthrough a success without an error."
   ]
  },
  {
   "cell_type": "code",
   "execution_count": null,
   "metadata": {},
   "outputs": [],
   "source": [
    "import numpy as np\n",
    "import pandas as pd\n",
    "import seaborn as sns\n",
    "from sklearn.preprocessing import LabelEncoder\n",
    "import tensorflow as tf"
   ]
  },
  {
   "attachments": {},
   "cell_type": "markdown",
   "metadata": {},
   "source": [
    "## Load the datasets into this workspace"
   ]
  },
  {
   "cell_type": "code",
   "execution_count": null,
   "metadata": {},
   "outputs": [],
   "source": [
    "ratings = pd.read_csv(\"BX-CSV/BX-Book-Ratings.csv\", delimiter=\";\", on_bad_lines='skip')\n",
    "books = pd.read_csv(\"BX-CSV/BX-Books.csv\", delimiter=\";\", on_bad_lines='skip', low_memory=False)\n",
    "users = pd.read_csv(\"BX-CSV/BX-Users.csv\", delimiter=\";\", on_bad_lines='skip')"
   ]
  },
  {
   "attachments": {},
   "cell_type": "markdown",
   "metadata": {},
   "source": [
    "## Datasets overview and information"
   ]
  },
  {
   "attachments": {},
   "cell_type": "markdown",
   "metadata": {},
   "source": [
    "### Book Ratings\n",
    "To get the glimpse of the dataset, I will show the top 3 rows of the book ratings dataset."
   ]
  },
  {
   "cell_type": "code",
   "execution_count": null,
   "metadata": {},
   "outputs": [],
   "source": [
    "ratings.head(3)"
   ]
  },
  {
   "attachments": {},
   "cell_type": "markdown",
   "metadata": {},
   "source": [
    "* Brief information about different columns of the ratings dataframe:"
   ]
  },
  {
   "cell_type": "code",
   "execution_count": null,
   "metadata": {},
   "outputs": [],
   "source": [
    "ratings.info()"
   ]
  },
  {
   "cell_type": "markdown",
   "metadata": {},
   "source": [
    "The `ISBN` (i.e., book-id) is represented as an object. What can causes this is non-numerical character in the ID."
   ]
  },
  {
   "attachments": {},
   "cell_type": "markdown",
   "metadata": {},
   "source": [
    "### Book information\n",
    "* Top 3 rows of the books information:"
   ]
  },
  {
   "cell_type": "code",
   "execution_count": null,
   "metadata": {},
   "outputs": [],
   "source": [
    "books.head(3)"
   ]
  },
  {
   "cell_type": "markdown",
   "metadata": {},
   "source": [
    "* Brief information about different columns of the books dataframe:"
   ]
  },
  {
   "cell_type": "code",
   "execution_count": null,
   "metadata": {},
   "outputs": [],
   "source": [
    "books.info()"
   ]
  },
  {
   "cell_type": "markdown",
   "metadata": {},
   "source": [
    "The same is true for this dataset also i.e., `ISBN` column is represented as an object instead of an integer."
   ]
  },
  {
   "cell_type": "markdown",
   "metadata": {},
   "source": [
    "### Users information\n",
    "* Top 5 header lines of the users information"
   ]
  },
  {
   "cell_type": "code",
   "execution_count": null,
   "metadata": {},
   "outputs": [],
   "source": [
    "users.head()"
   ]
  },
  {
   "cell_type": "markdown",
   "metadata": {},
   "source": [
    "* Brief information about different columns of the users dataframe:"
   ]
  },
  {
   "cell_type": "code",
   "execution_count": null,
   "metadata": {},
   "outputs": [],
   "source": [
    "users.info()"
   ]
  },
  {
   "cell_type": "markdown",
   "metadata": {},
   "source": [
    "### OBSERVATIONS:\n",
    "- The \"books\" dataframe contains some unnecessary columns which are not needed for this analysis e.g. `\"Image-URL-S\"`, `\"Image-URL-M\"`, `\"Image-URL-L\"` etc.\n",
    "- Some wrong columns are assigned to the `\"Year-Of-Publication\"` in the `books` dataframe which makes it to be loaded as an `object` instead of an `integer`.\n",
    "- `ISBN` column (i.e., the book-id) has been misrepresented due to some non numerical characters."
   ]
  }
 ],
 "metadata": {
  "language_info": {
   "name": "python"
  },
  "orig_nbformat": 4
 },
 "nbformat": 4,
 "nbformat_minor": 2
}
