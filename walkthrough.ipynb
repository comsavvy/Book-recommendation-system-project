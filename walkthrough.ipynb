{
 "cells": [
  {
   "cell_type": "markdown",
   "metadata": {},
   "source": [
    "# Deep Learning $for$ Book Recommending System\n",
    "This is a project on a Recommendation system that suggest different books to users based on their past behavior i.e., likings and ratings. \n",
    "## About the dataset:\n",
    "The Book-Crossing dataset can be found on the following website:\n",
    "\n",
    "http://www2.informatik.uni-freiburg.de/~cziegler/BX/\n",
    "\n",
    "This dataset is a collaborative filtering dataset and contains information about users, books, and ratings. It was collected by Cai-Nicolas Ziegler in a 4-week crawl (August / September 2004) from the Book-Crossing community, and contains 278,858 users (anonymized) providing 1,149,780 ratings (explicit / implicit) about 271,379 books."
   ]
  },
  {
   "attachments": {},
   "cell_type": "markdown",
   "metadata": {},
   "source": [
    "## Load all necessary libraries\n",
    "This section is about importing all libraries that will make the project walkthrough a success without an error."
   ]
  },
  {
   "cell_type": "code",
   "execution_count": 1,
   "metadata": {},
   "outputs": [],
   "source": [
    "import numpy as np\n",
    "import pandas as pd\n",
    "import seaborn as sns\n",
    "import matplotlib.pyplot as plt\n",
    "from sklearn.preprocessing import LabelEncoder\n",
    "import tensorflow as tf"
   ]
  },
  {
   "attachments": {},
   "cell_type": "markdown",
   "metadata": {},
   "source": [
    "## Load the datasets into this workspace"
   ]
  },
  {
   "cell_type": "code",
   "execution_count": 2,
   "metadata": {},
   "outputs": [],
   "source": [
    "ratings = pd.read_csv(\"Data/BX-Book-Ratings.csv\", delimiter=\";\", on_bad_lines='skip')\n",
    "books = pd.read_csv(\"Data/BX-Books.csv\", delimiter=\";\", on_bad_lines='skip', low_memory=False)\n",
    "users = pd.read_csv(\"Data/BX-Users.csv\", delimiter=\";\", on_bad_lines='skip')"
   ]
  },
  {
   "attachments": {},
   "cell_type": "markdown",
   "metadata": {},
   "source": [
    "## Data Exploration"
   ]
  },
  {
   "attachments": {},
   "cell_type": "markdown",
   "metadata": {},
   "source": [
    "### Book Ratings\n",
    "To get the glimpse of the dataset, I will show the top 3 rows of the book ratings dataset."
   ]
  },
  {
   "cell_type": "code",
   "execution_count": 3,
   "metadata": {},
   "outputs": [
    {
     "data": {
      "text/html": [
       "<div>\n",
       "<style scoped>\n",
       "    .dataframe tbody tr th:only-of-type {\n",
       "        vertical-align: middle;\n",
       "    }\n",
       "\n",
       "    .dataframe tbody tr th {\n",
       "        vertical-align: top;\n",
       "    }\n",
       "\n",
       "    .dataframe thead th {\n",
       "        text-align: right;\n",
       "    }\n",
       "</style>\n",
       "<table border=\"1\" class=\"dataframe\">\n",
       "  <thead>\n",
       "    <tr style=\"text-align: right;\">\n",
       "      <th></th>\n",
       "      <th>User-ID</th>\n",
       "      <th>ISBN</th>\n",
       "      <th>Book-Rating</th>\n",
       "    </tr>\n",
       "  </thead>\n",
       "  <tbody>\n",
       "    <tr>\n",
       "      <th>0</th>\n",
       "      <td>276725</td>\n",
       "      <td>034545104X</td>\n",
       "      <td>0</td>\n",
       "    </tr>\n",
       "    <tr>\n",
       "      <th>1</th>\n",
       "      <td>276726</td>\n",
       "      <td>0155061224</td>\n",
       "      <td>5</td>\n",
       "    </tr>\n",
       "    <tr>\n",
       "      <th>2</th>\n",
       "      <td>276727</td>\n",
       "      <td>0446520802</td>\n",
       "      <td>0</td>\n",
       "    </tr>\n",
       "  </tbody>\n",
       "</table>\n",
       "</div>"
      ],
      "text/plain": [
       "   User-ID        ISBN  Book-Rating\n",
       "0   276725  034545104X            0\n",
       "1   276726  0155061224            5\n",
       "2   276727  0446520802            0"
      ]
     },
     "execution_count": 3,
     "metadata": {},
     "output_type": "execute_result"
    }
   ],
   "source": [
    "ratings.head(3)"
   ]
  },
  {
   "attachments": {},
   "cell_type": "markdown",
   "metadata": {},
   "source": [
    "* Brief information about different columns of the ratings dataframe:"
   ]
  },
  {
   "cell_type": "code",
   "execution_count": 4,
   "metadata": {},
   "outputs": [
    {
     "name": "stdout",
     "output_type": "stream",
     "text": [
      "<class 'pandas.core.frame.DataFrame'>\n",
      "RangeIndex: 1149780 entries, 0 to 1149779\n",
      "Data columns (total 3 columns):\n",
      " #   Column       Non-Null Count    Dtype \n",
      "---  ------       --------------    ----- \n",
      " 0   User-ID      1149780 non-null  int64 \n",
      " 1   ISBN         1149780 non-null  object\n",
      " 2   Book-Rating  1149780 non-null  int64 \n",
      "dtypes: int64(2), object(1)\n",
      "memory usage: 26.3+ MB\n"
     ]
    }
   ],
   "source": [
    "ratings.info()"
   ]
  },
  {
   "attachments": {},
   "cell_type": "markdown",
   "metadata": {},
   "source": [
    "The `ISBN` (i.e., book-id) is represented as an object. What can causes this is non-numerical character in the ID. Also, from the above information it can be seen that the ratings table has no blank/null values."
   ]
  },
  {
   "cell_type": "code",
   "execution_count": 5,
   "metadata": {},
   "outputs": [
    {
     "data": {
      "text/plain": [
       "False"
      ]
     },
     "execution_count": 5,
     "metadata": {},
     "output_type": "execute_result"
    }
   ],
   "source": [
    "ratings.duplicated().any()"
   ]
  },
  {
   "attachments": {},
   "cell_type": "markdown",
   "metadata": {},
   "source": [
    "This confirms that the ratings dataframe has no duplicate values."
   ]
  },
  {
   "cell_type": "code",
   "execution_count": 6,
   "metadata": {},
   "outputs": [
    {
     "data": {
      "image/png": "[encoded data removed]",
      "text/plain": [
       "<Figure size 640x480 with 1 Axes>"
      ]
     },
     "metadata": {},
     "output_type": "display_data"
    }
   ],
   "source": [
    "sns.histplot(ratings, x='Book-Rating');"
   ]
  },
  {
   "attachments": {},
   "cell_type": "markdown",
   "metadata": {},
   "source": [
    "There seem to be more zeros (0) ratings in the book rated. Explicit ratings are what can contribute to the effectiveness of the model to be built, these zeros will serve as redundancy to the model."
   ]
  },
  {
   "attachments": {},
   "cell_type": "markdown",
   "metadata": {},
   "source": [
    "### Book information\n",
    "* Top 3 rows of the books information:"
   ]
  },
  {
   "cell_type": "code",
   "execution_count": 7,
   "metadata": {},
   "outputs": [
    {
     "data": {
      "text/html": [
       "<div>\n",
       "<style scoped>\n",
       "    .dataframe tbody tr th:only-of-type {\n",
       "        vertical-align: middle;\n",
       "    }\n",
       "\n",
       "    .dataframe tbody tr th {\n",
       "        vertical-align: top;\n",
       "    }\n",
       "\n",
       "    .dataframe thead th {\n",
       "        text-align: right;\n",
       "    }\n",
       "</style>\n",
       "<table border=\"1\" class=\"dataframe\">\n",
       "  <thead>\n",
       "    <tr style=\"text-align: right;\">\n",
       "      <th></th>\n",
       "      <th>ISBN</th>\n",
       "      <th>Book-Title</th>\n",
       "      <th>Book-Author</th>\n",
       "      <th>Year-Of-Publication</th>\n",
       "      <th>Publisher</th>\n",
       "      <th>Image-URL-S</th>\n",
       "      <th>Image-URL-M</th>\n",
       "      <th>Image-URL-L</th>\n",
       "    </tr>\n",
       "  </thead>\n",
       "  <tbody>\n",
       "    <tr>\n",
       "      <th>0</th>\n",
       "      <td>0195153448</td>\n",
       "      <td>Classical Mythology</td>\n",
       "      <td>Mark P. O. Morford</td>\n",
       "      <td>2002</td>\n",
       "      <td>Oxford University Press</td>\n",
       "      <td>http://images.amazon.com/images/P/0195153448.0...</td>\n",
       "      <td>http://images.amazon.com/images/P/0195153448.0...</td>\n",
       "      <td>http://images.amazon.com/images/P/0195153448.0...</td>\n",
       "    </tr>\n",
       "    <tr>\n",
       "      <th>1</th>\n",
       "      <td>0002005018</td>\n",
       "      <td>Clara Callan</td>\n",
       "      <td>Richard Bruce Wright</td>\n",
       "      <td>2001</td>\n",
       "      <td>HarperFlamingo Canada</td>\n",
       "      <td>http://images.amazon.com/images/P/0002005018.0...</td>\n",
       "      <td>http://images.amazon.com/images/P/0002005018.0...</td>\n",
       "      <td>http://images.amazon.com/images/P/0002005018.0...</td>\n",
       "    </tr>\n",
       "    <tr>\n",
       "      <th>2</th>\n",
       "      <td>0060973129</td>\n",
       "      <td>Decision in Normandy</td>\n",
       "      <td>Carlo D'Este</td>\n",
       "      <td>1991</td>\n",
       "      <td>HarperPerennial</td>\n",
       "      <td>http://images.amazon.com/images/P/0060973129.0...</td>\n",
       "      <td>http://images.amazon.com/images/P/0060973129.0...</td>\n",
       "      <td>http://images.amazon.com/images/P/0060973129.0...</td>\n",
       "    </tr>\n",
       "  </tbody>\n",
       "</table>\n",
       "</div>"
      ],
      "text/plain": [
       "         ISBN            Book-Title           Book-Author Year-Of-Publication  \\\n",
       "0  0195153448   Classical Mythology    Mark P. O. Morford                2002   \n",
       "1  0002005018          Clara Callan  Richard Bruce Wright                2001   \n",
       "2  0060973129  Decision in Normandy          Carlo D'Este                1991   \n",
       "\n",
       "                 Publisher                                        Image-URL-S  \\\n",
       "0  Oxford University Press  http://images.amazon.com/images/P/0195153448.0...   \n",
       "1    HarperFlamingo Canada  http://images.amazon.com/images/P/0002005018.0...   \n",
       "2          HarperPerennial  http://images.amazon.com/images/P/0060973129.0...   \n",
       "\n",
       "                                         Image-URL-M  \\\n",
       "0  http://images.amazon.com/images/P/0195153448.0...   \n",
       "1  http://images.amazon.com/images/P/0002005018.0...   \n",
       "2  http://images.amazon.com/images/P/0060973129.0...   \n",
       "\n",
       "                                         Image-URL-L  \n",
       "0  http://images.amazon.com/images/P/0195153448.0...  \n",
       "1  http://images.amazon.com/images/P/0002005018.0...  \n",
       "2  http://images.amazon.com/images/P/0060973129.0...  "
      ]
     },
     "execution_count": 7,
     "metadata": {},
     "output_type": "execute_result"
    }
   ],
   "source": [
    "books.head(3)"
   ]
  },
  {
   "cell_type": "markdown",
   "metadata": {},
   "source": [
    "* Brief information about different columns of the books dataframe:"
   ]
  },
  {
   "cell_type": "code",
   "execution_count": 8,
   "metadata": {},
   "outputs": [
    {
     "name": "stdout",
     "output_type": "stream",
     "text": [
      "<class 'pandas.core.frame.DataFrame'>\n",
      "RangeIndex: 271361 entries, 0 to 271360\n",
      "Data columns (total 8 columns):\n",
      " #   Column               Non-Null Count   Dtype \n",
      "---  ------               --------------   ----- \n",
      " 0   ISBN                 271361 non-null  object\n",
      " 1   Book-Title           271361 non-null  object\n",
      " 2   Book-Author          271360 non-null  object\n",
      " 3   Year-Of-Publication  271361 non-null  object\n",
      " 4   Publisher            271359 non-null  object\n",
      " 5   Image-URL-S          271361 non-null  object\n",
      " 6   Image-URL-M          271361 non-null  object\n",
      " 7   Image-URL-L          271358 non-null  object\n",
      "dtypes: object(8)\n",
      "memory usage: 16.6+ MB\n"
     ]
    }
   ],
   "source": [
    "books.info()"
   ]
  },
  {
   "attachments": {},
   "cell_type": "markdown",
   "metadata": {},
   "source": [
    "The same is true for this dataset also i.e., `ISBN` column is represented as an object instead of an integer. One book author and two publisers are missing in the dataset."
   ]
  },
  {
   "cell_type": "code",
   "execution_count": 9,
   "metadata": {},
   "outputs": [
    {
     "data": {
      "text/plain": [
       "ISBN                   False\n",
       "Book-Title             False\n",
       "Book-Author             True\n",
       "Year-Of-Publication    False\n",
       "Publisher               True\n",
       "Image-URL-S            False\n",
       "Image-URL-M            False\n",
       "Image-URL-L             True\n",
       "dtype: bool"
      ]
     },
     "execution_count": 9,
     "metadata": {},
     "output_type": "execute_result"
    }
   ],
   "source": [
    "books.isna().any()"
   ]
  },
  {
   "attachments": {},
   "cell_type": "markdown",
   "metadata": {},
   "source": [
    "In the books table, three columns contain missing data i.e., `Book-Author`, `Publiser` and `Image-URL-L`."
   ]
  },
  {
   "cell_type": "code",
   "execution_count": 10,
   "metadata": {},
   "outputs": [
    {
     "data": {
      "text/plain": [
       "False"
      ]
     },
     "execution_count": 10,
     "metadata": {},
     "output_type": "execute_result"
    }
   ],
   "source": [
    "books.duplicated().any()"
   ]
  },
  {
   "attachments": {},
   "cell_type": "markdown",
   "metadata": {},
   "source": [
    "The books table has no duplicate values."
   ]
  },
  {
   "cell_type": "code",
   "execution_count": 11,
   "metadata": {},
   "outputs": [
    {
     "data": {
      "image/png": "[encoded data removed]",
      "text/plain": [
       "<Figure size 640x480 with 1 Axes>"
      ]
     },
     "metadata": {},
     "output_type": "display_data"
    }
   ],
   "source": [
    "books[\"Book-Author\"].value_counts()[:20].plot.bar()\n",
    "plt.title(\"Top 20 Book Authors\");"
   ]
  },
  {
   "cell_type": "code",
   "execution_count": 12,
   "metadata": {},
   "outputs": [
    {
     "data": {
      "image/png": "[encoded data removed]",
      "text/plain": [
       "<Figure size 640x480 with 1 Axes>"
      ]
     },
     "metadata": {},
     "output_type": "display_data"
    }
   ],
   "source": [
    "books[\"Publisher\"].value_counts()[:20].plot.bar()\n",
    "plt.title(\"Top 20 Book Publishers\");"
   ]
  },
  {
   "cell_type": "markdown",
   "metadata": {},
   "source": [
    "### Users information\n",
    "* Top 5 header lines of the users information"
   ]
  },
  {
   "cell_type": "code",
   "execution_count": 13,
   "metadata": {},
   "outputs": [
    {
     "data": {
      "text/html": [
       "<div>\n",
       "<style scoped>\n",
       "    .dataframe tbody tr th:only-of-type {\n",
       "        vertical-align: middle;\n",
       "    }\n",
       "\n",
       "    .dataframe tbody tr th {\n",
       "        vertical-align: top;\n",
       "    }\n",
       "\n",
       "    .dataframe thead th {\n",
       "        text-align: right;\n",
       "    }\n",
       "</style>\n",
       "<table border=\"1\" class=\"dataframe\">\n",
       "  <thead>\n",
       "    <tr style=\"text-align: right;\">\n",
       "      <th></th>\n",
       "      <th>User-ID</th>\n",
       "      <th>Location</th>\n",
       "      <th>Age</th>\n",
       "    </tr>\n",
       "  </thead>\n",
       "  <tbody>\n",
       "    <tr>\n",
       "      <th>0</th>\n",
       "      <td>1</td>\n",
       "      <td>nyc, new york, usa</td>\n",
       "      <td>NaN</td>\n",
       "    </tr>\n",
       "    <tr>\n",
       "      <th>1</th>\n",
       "      <td>2</td>\n",
       "      <td>stockton, california, usa</td>\n",
       "      <td>18.0</td>\n",
       "    </tr>\n",
       "    <tr>\n",
       "      <th>2</th>\n",
       "      <td>3</td>\n",
       "      <td>moscow, yukon territory, russia</td>\n",
       "      <td>NaN</td>\n",
       "    </tr>\n",
       "    <tr>\n",
       "      <th>3</th>\n",
       "      <td>4</td>\n",
       "      <td>porto, v.n.gaia, portugal</td>\n",
       "      <td>17.0</td>\n",
       "    </tr>\n",
       "    <tr>\n",
       "      <th>4</th>\n",
       "      <td>5</td>\n",
       "      <td>farnborough, hants, united kingdom</td>\n",
       "      <td>NaN</td>\n",
       "    </tr>\n",
       "  </tbody>\n",
       "</table>\n",
       "</div>"
      ],
      "text/plain": [
       "   User-ID                            Location   Age\n",
       "0        1                  nyc, new york, usa   NaN\n",
       "1        2           stockton, california, usa  18.0\n",
       "2        3     moscow, yukon territory, russia   NaN\n",
       "3        4           porto, v.n.gaia, portugal  17.0\n",
       "4        5  farnborough, hants, united kingdom   NaN"
      ]
     },
     "execution_count": 13,
     "metadata": {},
     "output_type": "execute_result"
    }
   ],
   "source": [
    "users.head()"
   ]
  },
  {
   "attachments": {},
   "cell_type": "markdown",
   "metadata": {},
   "source": [
    "Three attributes are in a column i.e., Location [\"City\", \"State\", \"Country\"]"
   ]
  },
  {
   "cell_type": "markdown",
   "metadata": {},
   "source": [
    "* Brief information about different columns of the users dataframe:"
   ]
  },
  {
   "cell_type": "code",
   "execution_count": 14,
   "metadata": {},
   "outputs": [
    {
     "name": "stdout",
     "output_type": "stream",
     "text": [
      "<class 'pandas.core.frame.DataFrame'>\n",
      "RangeIndex: 278858 entries, 0 to 278857\n",
      "Data columns (total 3 columns):\n",
      " #   Column    Non-Null Count   Dtype  \n",
      "---  ------    --------------   -----  \n",
      " 0   User-ID   278858 non-null  int64  \n",
      " 1   Location  278858 non-null  object \n",
      " 2   Age       168096 non-null  float64\n",
      "dtypes: float64(1), int64(1), object(1)\n",
      "memory usage: 6.4+ MB\n"
     ]
    }
   ],
   "source": [
    "users.info()"
   ]
  },
  {
   "attachments": {},
   "cell_type": "markdown",
   "metadata": {},
   "source": [
    "The age column seems to have many missing values."
   ]
  },
  {
   "cell_type": "code",
   "execution_count": 15,
   "metadata": {},
   "outputs": [
    {
     "data": {
      "text/html": [
       "<div>\n",
       "<style scoped>\n",
       "    .dataframe tbody tr th:only-of-type {\n",
       "        vertical-align: middle;\n",
       "    }\n",
       "\n",
       "    .dataframe tbody tr th {\n",
       "        vertical-align: top;\n",
       "    }\n",
       "\n",
       "    .dataframe thead th {\n",
       "        text-align: right;\n",
       "    }\n",
       "</style>\n",
       "<table border=\"1\" class=\"dataframe\">\n",
       "  <thead>\n",
       "    <tr style=\"text-align: right;\">\n",
       "      <th></th>\n",
       "      <th>User-ID</th>\n",
       "      <th>Location</th>\n",
       "      <th>Age</th>\n",
       "    </tr>\n",
       "  </thead>\n",
       "  <tbody>\n",
       "    <tr>\n",
       "      <th>0</th>\n",
       "      <td>1</td>\n",
       "      <td>nyc, new york, usa</td>\n",
       "      <td>NaN</td>\n",
       "    </tr>\n",
       "    <tr>\n",
       "      <th>2</th>\n",
       "      <td>3</td>\n",
       "      <td>moscow, yukon territory, russia</td>\n",
       "      <td>NaN</td>\n",
       "    </tr>\n",
       "    <tr>\n",
       "      <th>4</th>\n",
       "      <td>5</td>\n",
       "      <td>farnborough, hants, united kingdom</td>\n",
       "      <td>NaN</td>\n",
       "    </tr>\n",
       "    <tr>\n",
       "      <th>6</th>\n",
       "      <td>7</td>\n",
       "      <td>washington, dc, usa</td>\n",
       "      <td>NaN</td>\n",
       "    </tr>\n",
       "    <tr>\n",
       "      <th>7</th>\n",
       "      <td>8</td>\n",
       "      <td>timmins, ontario, canada</td>\n",
       "      <td>NaN</td>\n",
       "    </tr>\n",
       "    <tr>\n",
       "      <th>8</th>\n",
       "      <td>9</td>\n",
       "      <td>germantown, tennessee, usa</td>\n",
       "      <td>NaN</td>\n",
       "    </tr>\n",
       "    <tr>\n",
       "      <th>11</th>\n",
       "      <td>12</td>\n",
       "      <td>fort bragg, california, usa</td>\n",
       "      <td>NaN</td>\n",
       "    </tr>\n",
       "    <tr>\n",
       "      <th>13</th>\n",
       "      <td>14</td>\n",
       "      <td>mediapolis, iowa, usa</td>\n",
       "      <td>NaN</td>\n",
       "    </tr>\n",
       "    <tr>\n",
       "      <th>14</th>\n",
       "      <td>15</td>\n",
       "      <td>calgary, alberta, canada</td>\n",
       "      <td>NaN</td>\n",
       "    </tr>\n",
       "    <tr>\n",
       "      <th>15</th>\n",
       "      <td>16</td>\n",
       "      <td>albuquerque, new mexico, usa</td>\n",
       "      <td>NaN</td>\n",
       "    </tr>\n",
       "  </tbody>\n",
       "</table>\n",
       "</div>"
      ],
      "text/plain": [
       "    User-ID                            Location  Age\n",
       "0         1                  nyc, new york, usa  NaN\n",
       "2         3     moscow, yukon territory, russia  NaN\n",
       "4         5  farnborough, hants, united kingdom  NaN\n",
       "6         7                 washington, dc, usa  NaN\n",
       "7         8            timmins, ontario, canada  NaN\n",
       "8         9          germantown, tennessee, usa  NaN\n",
       "11       12         fort bragg, california, usa  NaN\n",
       "13       14               mediapolis, iowa, usa  NaN\n",
       "14       15            calgary, alberta, canada  NaN\n",
       "15       16        albuquerque, new mexico, usa  NaN"
      ]
     },
     "execution_count": 15,
     "metadata": {},
     "output_type": "execute_result"
    }
   ],
   "source": [
    "users[users[\"Age\"].isna()].head(10)"
   ]
  },
  {
   "cell_type": "code",
   "execution_count": 16,
   "metadata": {},
   "outputs": [
    {
     "data": {
      "text/plain": [
       "count    168096.000000\n",
       "mean         34.751434\n",
       "std          14.428097\n",
       "min           0.000000\n",
       "25%          24.000000\n",
       "50%          32.000000\n",
       "75%          44.000000\n",
       "max         244.000000\n",
       "Name: Age, dtype: float64"
      ]
     },
     "execution_count": 16,
     "metadata": {},
     "output_type": "execute_result"
    }
   ],
   "source": [
    "users[\"Age\"].describe()"
   ]
  },
  {
   "cell_type": "code",
   "execution_count": 17,
   "metadata": {},
   "outputs": [
    {
     "data": {
      "image/png": "[encoded data removed]",
      "text/plain": [
       "<Figure size 640x480 with 1 Axes>"
      ]
     },
     "metadata": {},
     "output_type": "display_data"
    }
   ],
   "source": [
    "# Distribution of the age of users\n",
    "\n",
    "sns.histplot(users, x=\"Age\", discrete=True)\n",
    "plt.title(\"Age distribution\");"
   ]
  },
  {
   "attachments": {},
   "cell_type": "markdown",
   "metadata": {},
   "source": [
    "There seem to be some few outliers in the age distribution."
   ]
  },
  {
   "cell_type": "code",
   "execution_count": 18,
   "metadata": {},
   "outputs": [
    {
     "data": {
      "text/plain": [
       "False"
      ]
     },
     "execution_count": 18,
     "metadata": {},
     "output_type": "execute_result"
    }
   ],
   "source": [
    "# Checking for duplicate\n",
    "users.duplicated().any()"
   ]
  },
  {
   "attachments": {},
   "cell_type": "markdown",
   "metadata": {},
   "source": [
    "No duplicate entry is detected."
   ]
  },
  {
   "attachments": {},
   "cell_type": "markdown",
   "metadata": {},
   "source": [
    "### GENERAL OBSERVATIONS:\n",
    "- The three datasets have no duplicate entry, but some null entries were detected.\n",
    "- The \"books\" dataframe contains some unnecessary columns which are not needed for this analysis e.g. `\"Image-URL-S\"`, `\"Image-URL-M\"`, `\"Image-URL-L\"` etc.\n",
    "- Two books have no Publishers and one book has no Author which will not be needed for the analysis.\n",
    "- Some wrong columns are assigned to the `\"Year-Of-Publication\"` in the `books` dataframe which makes it to be loaded as an `object` instead of an `integer`.\n",
    "- `ISBN` column (i.e., the book-id) has been misrepresented due to some non numerical characters.\n",
    "- The location column in the users dataset has three attributes (i.e., City, State and Country), placing these attributes in their right column will improve the data quality.\n",
    "- The users age seems to have many outliers (i.e., values above 110), using imputation techniques to handle this will bring about consistency.\n",
    "- Since we will be working with explicit ratings, ratings with the value of zero(0) will not be needed for the recommendation system to avoid redundancy.\n",
    "\n"
   ]
  },
  {
   "cell_type": "markdown",
   "metadata": {},
   "source": [
    "## Data Cleaning\n",
    "In this section, I will remove all the unnecessary columns and the invalid rows from the dataframe. Some user-id and book-id have unknown character which make them to be represented as an object. So, I will be using the LabelEncoder() function of the sklearn library to encode each and every id in the dataset to a numerical equivalent. But before that, I will remove all unknown ids in both User-ID and ISBN in the ratings dataframe."
   ]
  },
  {
   "cell_type": "markdown",
   "metadata": {},
   "source": [
    "* Drop all redundant columns from the books dataframe:"
   ]
  },
  {
   "cell_type": "code",
   "execution_count": 19,
   "metadata": {},
   "outputs": [],
   "source": [
    "# Drop unnecessary columns\n",
    "books.drop(columns=['Image-URL-S', 'Image-URL-M', 'Image-URL-L'], inplace=True)"
   ]
  },
  {
   "attachments": {},
   "cell_type": "markdown",
   "metadata": {},
   "source": [
    "- Remove all missing values in the books table"
   ]
  },
  {
   "cell_type": "code",
   "execution_count": 20,
   "metadata": {},
   "outputs": [],
   "source": [
    "books.dropna(inplace=True)"
   ]
  },
  {
   "attachments": {},
   "cell_type": "markdown",
   "metadata": {},
   "source": [
    "- Remove all zero ratings from the book dataset"
   ]
  },
  {
   "cell_type": "code",
   "execution_count": 21,
   "metadata": {},
   "outputs": [],
   "source": [
    "ratings = ratings[ratings[\"Book-Rating\"]!=0]"
   ]
  },
  {
   "cell_type": "code",
   "execution_count": 22,
   "metadata": {},
   "outputs": [
    {
     "data": {
      "image/png": "[encoded data removed]",
      "text/plain": [
       "<Figure size 600x500 with 1 Axes>"
      ]
     },
     "metadata": {},
     "output_type": "display_data"
    }
   ],
   "source": [
    "rtg = ratings[\"Book-Rating\"].value_counts().sort_index()\n",
    "\n",
    "plt.figure(figsize=(6, 5))\n",
    "plt.bar(rtg.index, rtg.values)\n",
    "plt.xlabel('Rating')\n",
    "plt.ylabel('counts')\n",
    "plt.title('Explicit Rating Distribution');"
   ]
  },
  {
   "attachments": {},
   "cell_type": "markdown",
   "metadata": {},
   "source": [
    "- Expand the Location column in the user's table to improve the data quality"
   ]
  },
  {
   "cell_type": "code",
   "execution_count": 23,
   "metadata": {},
   "outputs": [
    {
     "data": {
      "text/html": [
       "<div>\n",
       "<style scoped>\n",
       "    .dataframe tbody tr th:only-of-type {\n",
       "        vertical-align: middle;\n",
       "    }\n",
       "\n",
       "    .dataframe tbody tr th {\n",
       "        vertical-align: top;\n",
       "    }\n",
       "\n",
       "    .dataframe thead th {\n",
       "        text-align: right;\n",
       "    }\n",
       "</style>\n",
       "<table border=\"1\" class=\"dataframe\">\n",
       "  <thead>\n",
       "    <tr style=\"text-align: right;\">\n",
       "      <th></th>\n",
       "      <th>User-ID</th>\n",
       "      <th>Age</th>\n",
       "      <th>City</th>\n",
       "      <th>State</th>\n",
       "      <th>Country</th>\n",
       "    </tr>\n",
       "  </thead>\n",
       "  <tbody>\n",
       "    <tr>\n",
       "      <th>0</th>\n",
       "      <td>1</td>\n",
       "      <td>NaN</td>\n",
       "      <td>Nyc</td>\n",
       "      <td>New York</td>\n",
       "      <td>Usa</td>\n",
       "    </tr>\n",
       "    <tr>\n",
       "      <th>1</th>\n",
       "      <td>2</td>\n",
       "      <td>18.0</td>\n",
       "      <td>Stockton</td>\n",
       "      <td>California</td>\n",
       "      <td>Usa</td>\n",
       "    </tr>\n",
       "    <tr>\n",
       "      <th>2</th>\n",
       "      <td>3</td>\n",
       "      <td>NaN</td>\n",
       "      <td>Moscow</td>\n",
       "      <td>Yukon Territory</td>\n",
       "      <td>Russia</td>\n",
       "    </tr>\n",
       "    <tr>\n",
       "      <th>3</th>\n",
       "      <td>4</td>\n",
       "      <td>17.0</td>\n",
       "      <td>Porto</td>\n",
       "      <td>V.N.Gaia</td>\n",
       "      <td>Portugal</td>\n",
       "    </tr>\n",
       "    <tr>\n",
       "      <th>4</th>\n",
       "      <td>5</td>\n",
       "      <td>NaN</td>\n",
       "      <td>Farnborough</td>\n",
       "      <td>Hants</td>\n",
       "      <td>United Kingdom</td>\n",
       "    </tr>\n",
       "  </tbody>\n",
       "</table>\n",
       "</div>"
      ],
      "text/plain": [
       "   User-ID   Age         City            State         Country\n",
       "0        1   NaN          Nyc         New York             Usa\n",
       "1        2  18.0     Stockton       California             Usa\n",
       "2        3   NaN       Moscow  Yukon Territory          Russia\n",
       "3        4  17.0        Porto         V.N.Gaia        Portugal\n",
       "4        5   NaN  Farnborough            Hants  United Kingdom"
      ]
     },
     "execution_count": 23,
     "metadata": {},
     "output_type": "execute_result"
    }
   ],
   "source": [
    "users[[\"City\", \"State\", \"Country\"]] = users[\"Location\"].str.split(\", \", n=2, expand=True)\n",
    "\n",
    "users.loc[(users[\"State\"]=='\\\\n/a\\\\\"') | (users[\"State\"]=='') | (users[\"State\"]=='*') | \n",
    "          (users[\"State\"]=='n.a'), ['State']] = 'n/a'\n",
    "users[\"State\"].fillna('other', inplace=True)\n",
    "users[[\"City\", \"State\", \"Country\"]] = users.loc[:, [\"City\", \"State\", \"Country\"]\n",
    "                                                ].apply(lambda cols: cols.str.title()).fillna('n/a')\n",
    "users.drop(\"Location\", axis=1, inplace=True)\n",
    "\n",
    "users.head()"
   ]
  },
  {
   "attachments": {},
   "cell_type": "markdown",
   "metadata": {},
   "source": [
    "- Handle all outliers in the age column"
   ]
  },
  {
   "cell_type": "code",
   "execution_count": 24,
   "metadata": {},
   "outputs": [],
   "source": [
    "# Imputation techniques will be used to handle these\n",
    "users.loc[users['Age'] > 110, \"Age\"] = np.nan\n",
    "users.loc[users['Age'] < 5, \"Age\"] = np.nan "
   ]
  },
  {
   "attachments": {},
   "cell_type": "markdown",
   "metadata": {},
   "source": [
    "- Perform imputation on the missing age"
   ]
  },
  {
   "cell_type": "code",
   "execution_count": 25,
   "metadata": {},
   "outputs": [],
   "source": [
    "temp_age_series = pd.Series(np.random.normal(loc=users[\"Age\"].mean(), scale=users[\"Age\"].std(),\n",
    "                                              size=users[\"Age\"].isna().values.sum())).abs()"
   ]
  },
  {
   "cell_type": "code",
   "execution_count": 26,
   "metadata": {},
   "outputs": [],
   "source": [
    "# Sort users table using age, make sure that missing values come first so as to replace them directly\n",
    "users = users.sort_values('Age',na_position='first').reset_index(drop=True)\n",
    "users[\"Age\"].fillna(temp_age_series, inplace=True)\n",
    "users.loc[users['Age'] < 5, \"Age\"] = users['Age'].mean()\n",
    "users[\"Age\"] = users[\"Age\"].astype(int)"
   ]
  },
  {
   "cell_type": "code",
   "execution_count": 27,
   "metadata": {},
   "outputs": [
    {
     "data": {
      "text/html": [
       "<div>\n",
       "<style scoped>\n",
       "    .dataframe tbody tr th:only-of-type {\n",
       "        vertical-align: middle;\n",
       "    }\n",
       "\n",
       "    .dataframe tbody tr th {\n",
       "        vertical-align: top;\n",
       "    }\n",
       "\n",
       "    .dataframe thead th {\n",
       "        text-align: right;\n",
       "    }\n",
       "</style>\n",
       "<table border=\"1\" class=\"dataframe\">\n",
       "  <thead>\n",
       "    <tr style=\"text-align: right;\">\n",
       "      <th></th>\n",
       "      <th>User-ID</th>\n",
       "      <th>Age</th>\n",
       "      <th>City</th>\n",
       "      <th>State</th>\n",
       "      <th>Country</th>\n",
       "    </tr>\n",
       "  </thead>\n",
       "  <tbody>\n",
       "    <tr>\n",
       "      <th>0</th>\n",
       "      <td>1</td>\n",
       "      <td>28</td>\n",
       "      <td>Nyc</td>\n",
       "      <td>New York</td>\n",
       "      <td>Usa</td>\n",
       "    </tr>\n",
       "    <tr>\n",
       "      <th>1</th>\n",
       "      <td>3</td>\n",
       "      <td>34</td>\n",
       "      <td>Moscow</td>\n",
       "      <td>Yukon Territory</td>\n",
       "      <td>Russia</td>\n",
       "    </tr>\n",
       "    <tr>\n",
       "      <th>2</th>\n",
       "      <td>5</td>\n",
       "      <td>32</td>\n",
       "      <td>Farnborough</td>\n",
       "      <td>Hants</td>\n",
       "      <td>United Kingdom</td>\n",
       "    </tr>\n",
       "    <tr>\n",
       "      <th>3</th>\n",
       "      <td>7</td>\n",
       "      <td>36</td>\n",
       "      <td>Washington</td>\n",
       "      <td>Dc</td>\n",
       "      <td>Usa</td>\n",
       "    </tr>\n",
       "    <tr>\n",
       "      <th>4</th>\n",
       "      <td>8</td>\n",
       "      <td>24</td>\n",
       "      <td>Timmins</td>\n",
       "      <td>Ontario</td>\n",
       "      <td>Canada</td>\n",
       "    </tr>\n",
       "  </tbody>\n",
       "</table>\n",
       "</div>"
      ],
      "text/plain": [
       "   User-ID  Age         City            State         Country\n",
       "0        1   28          Nyc         New York             Usa\n",
       "1        3   34       Moscow  Yukon Territory          Russia\n",
       "2        5   32  Farnborough            Hants  United Kingdom\n",
       "3        7   36   Washington               Dc             Usa\n",
       "4        8   24      Timmins          Ontario          Canada"
      ]
     },
     "execution_count": 27,
     "metadata": {},
     "output_type": "execute_result"
    }
   ],
   "source": [
    "users.head()"
   ]
  },
  {
   "cell_type": "code",
   "execution_count": 28,
   "metadata": {},
   "outputs": [
    {
     "data": {
      "text/plain": [
       "count    278858.000000\n",
       "mean         34.864067\n",
       "std          13.642909\n",
       "min           5.000000\n",
       "25%          25.000000\n",
       "50%          33.000000\n",
       "75%          44.000000\n",
       "max         110.000000\n",
       "Name: Age, dtype: float64"
      ]
     },
     "execution_count": 28,
     "metadata": {},
     "output_type": "execute_result"
    }
   ],
   "source": [
    "users[\"Age\"].describe()"
   ]
  },
  {
   "cell_type": "code",
   "execution_count": 29,
   "metadata": {},
   "outputs": [
    {
     "data": {
      "image/png": "[encoded data removed]",
      "text/plain": [
       "<Figure size 640x480 with 1 Axes>"
      ]
     },
     "metadata": {},
     "output_type": "display_data"
    }
   ],
   "source": [
    "# Distribution of the age of users after outlier handliing\n",
    "\n",
    "sns.histplot(users, x=\"Age\", discrete=True)\n",
    "plt.title(\"Age distribution\");"
   ]
  },
  {
   "cell_type": "code",
   "execution_count": 30,
   "metadata": {},
   "outputs": [
    {
     "data": {
      "text/html": [
       "<div>\n",
       "<style scoped>\n",
       "    .dataframe tbody tr th:only-of-type {\n",
       "        vertical-align: middle;\n",
       "    }\n",
       "\n",
       "    .dataframe tbody tr th {\n",
       "        vertical-align: top;\n",
       "    }\n",
       "\n",
       "    .dataframe thead th {\n",
       "        text-align: right;\n",
       "    }\n",
       "</style>\n",
       "<table border=\"1\" class=\"dataframe\">\n",
       "  <thead>\n",
       "    <tr style=\"text-align: right;\">\n",
       "      <th></th>\n",
       "      <th>User-ID</th>\n",
       "      <th>Age</th>\n",
       "      <th>City</th>\n",
       "      <th>State</th>\n",
       "      <th>Country</th>\n",
       "    </tr>\n",
       "  </thead>\n",
       "  <tbody>\n",
       "    <tr>\n",
       "      <th>0</th>\n",
       "      <td>1</td>\n",
       "      <td>28</td>\n",
       "      <td>Nyc</td>\n",
       "      <td>New York</td>\n",
       "      <td>Usa</td>\n",
       "    </tr>\n",
       "    <tr>\n",
       "      <th>1</th>\n",
       "      <td>3</td>\n",
       "      <td>34</td>\n",
       "      <td>Moscow</td>\n",
       "      <td>Yukon Territory</td>\n",
       "      <td>Russia</td>\n",
       "    </tr>\n",
       "    <tr>\n",
       "      <th>2</th>\n",
       "      <td>5</td>\n",
       "      <td>32</td>\n",
       "      <td>Farnborough</td>\n",
       "      <td>Hants</td>\n",
       "      <td>United Kingdom</td>\n",
       "    </tr>\n",
       "    <tr>\n",
       "      <th>3</th>\n",
       "      <td>7</td>\n",
       "      <td>36</td>\n",
       "      <td>Washington</td>\n",
       "      <td>Dc</td>\n",
       "      <td>Usa</td>\n",
       "    </tr>\n",
       "    <tr>\n",
       "      <th>4</th>\n",
       "      <td>8</td>\n",
       "      <td>24</td>\n",
       "      <td>Timmins</td>\n",
       "      <td>Ontario</td>\n",
       "      <td>Canada</td>\n",
       "    </tr>\n",
       "  </tbody>\n",
       "</table>\n",
       "</div>"
      ],
      "text/plain": [
       "   User-ID  Age         City            State         Country\n",
       "0        1   28          Nyc         New York             Usa\n",
       "1        3   34       Moscow  Yukon Territory          Russia\n",
       "2        5   32  Farnborough            Hants  United Kingdom\n",
       "3        7   36   Washington               Dc             Usa\n",
       "4        8   24      Timmins          Ontario          Canada"
      ]
     },
     "execution_count": 30,
     "metadata": {},
     "output_type": "execute_result"
    }
   ],
   "source": [
    "users.head()"
   ]
  },
  {
   "cell_type": "markdown",
   "metadata": {},
   "source": [
    "* Remove rows with id that are not in the books and users dataframe:"
   ]
  },
  {
   "cell_type": "code",
   "execution_count": 31,
   "metadata": {},
   "outputs": [],
   "source": [
    "ratings = ratings[ratings['ISBN'].isin(books['ISBN'].values)]\n",
    "ratings = ratings[ratings['User-ID'].isin(users['User-ID'].values)]"
   ]
  },
  {
   "attachments": {},
   "cell_type": "markdown",
   "metadata": {},
   "source": [
    "* Transform all IDs to integer equivalent using LabelEncoder"
   ]
  },
  {
   "cell_type": "code",
   "execution_count": 32,
   "metadata": {},
   "outputs": [],
   "source": [
    "# Transform both the user and the book IDs\n",
    "isbn_transformer = LabelEncoder().fit(books['ISBN'])\n",
    "books['ISBN'] = isbn_transformer.transform(books['ISBN'])\n",
    "ratings['ISBN'] = isbn_transformer.transform(ratings['ISBN'])\n",
    "\n",
    "userid_transformer = LabelEncoder().fit(users['User-ID'])\n",
    "users['User-ID'] = userid_transformer.transform(users['User-ID'])\n",
    "ratings['User-ID'] = userid_transformer.transform(ratings['User-ID'])"
   ]
  },
  {
   "cell_type": "markdown",
   "metadata": {},
   "source": [
    "## Brief overview of dataframes after data cleaning"
   ]
  },
  {
   "cell_type": "markdown",
   "metadata": {},
   "source": [
    "#### Ratings"
   ]
  },
  {
   "cell_type": "code",
   "execution_count": 33,
   "metadata": {},
   "outputs": [
    {
     "data": {
      "text/html": [
       "<div>\n",
       "<style scoped>\n",
       "    .dataframe tbody tr th:only-of-type {\n",
       "        vertical-align: middle;\n",
       "    }\n",
       "\n",
       "    .dataframe tbody tr th {\n",
       "        vertical-align: top;\n",
       "    }\n",
       "\n",
       "    .dataframe thead th {\n",
       "        text-align: right;\n",
       "    }\n",
       "</style>\n",
       "<table border=\"1\" class=\"dataframe\">\n",
       "  <thead>\n",
       "    <tr style=\"text-align: right;\">\n",
       "      <th></th>\n",
       "      <th>User-ID</th>\n",
       "      <th>ISBN</th>\n",
       "      <th>Book-Rating</th>\n",
       "    </tr>\n",
       "  </thead>\n",
       "  <tbody>\n",
       "    <tr>\n",
       "      <th>1</th>\n",
       "      <td>276725</td>\n",
       "      <td>22827</td>\n",
       "      <td>5</td>\n",
       "    </tr>\n",
       "    <tr>\n",
       "      <th>3</th>\n",
       "      <td>276728</td>\n",
       "      <td>111840</td>\n",
       "      <td>3</td>\n",
       "    </tr>\n",
       "    <tr>\n",
       "      <th>4</th>\n",
       "      <td>276728</td>\n",
       "      <td>111874</td>\n",
       "      <td>6</td>\n",
       "    </tr>\n",
       "    <tr>\n",
       "      <th>8</th>\n",
       "      <td>276743</td>\n",
       "      <td>70983</td>\n",
       "      <td>7</td>\n",
       "    </tr>\n",
       "    <tr>\n",
       "      <th>16</th>\n",
       "      <td>276746</td>\n",
       "      <td>5734</td>\n",
       "      <td>9</td>\n",
       "    </tr>\n",
       "  </tbody>\n",
       "</table>\n",
       "</div>"
      ],
      "text/plain": [
       "    User-ID    ISBN  Book-Rating\n",
       "1    276725   22827            5\n",
       "3    276728  111840            3\n",
       "4    276728  111874            6\n",
       "8    276743   70983            7\n",
       "16   276746    5734            9"
      ]
     },
     "execution_count": 33,
     "metadata": {},
     "output_type": "execute_result"
    }
   ],
   "source": [
    "ratings.head()"
   ]
  },
  {
   "cell_type": "code",
   "execution_count": 34,
   "metadata": {},
   "outputs": [
    {
     "name": "stdout",
     "output_type": "stream",
     "text": [
      "<class 'pandas.core.frame.DataFrame'>\n",
      "Int64Index: 383841 entries, 1 to 1149778\n",
      "Data columns (total 3 columns):\n",
      " #   Column       Non-Null Count   Dtype\n",
      "---  ------       --------------   -----\n",
      " 0   User-ID      383841 non-null  int64\n",
      " 1   ISBN         383841 non-null  int32\n",
      " 2   Book-Rating  383841 non-null  int64\n",
      "dtypes: int32(1), int64(2)\n",
      "memory usage: 10.2 MB\n"
     ]
    }
   ],
   "source": [
    "ratings.info()"
   ]
  },
  {
   "cell_type": "markdown",
   "metadata": {},
   "source": [
    "#### Books"
   ]
  },
  {
   "cell_type": "code",
   "execution_count": 35,
   "metadata": {},
   "outputs": [
    {
     "data": {
      "text/html": [
       "<div>\n",
       "<style scoped>\n",
       "    .dataframe tbody tr th:only-of-type {\n",
       "        vertical-align: middle;\n",
       "    }\n",
       "\n",
       "    .dataframe tbody tr th {\n",
       "        vertical-align: top;\n",
       "    }\n",
       "\n",
       "    .dataframe thead th {\n",
       "        text-align: right;\n",
       "    }\n",
       "</style>\n",
       "<table border=\"1\" class=\"dataframe\">\n",
       "  <thead>\n",
       "    <tr style=\"text-align: right;\">\n",
       "      <th></th>\n",
       "      <th>ISBN</th>\n",
       "      <th>Book-Title</th>\n",
       "      <th>Book-Author</th>\n",
       "      <th>Year-Of-Publication</th>\n",
       "      <th>Publisher</th>\n",
       "    </tr>\n",
       "  </thead>\n",
       "  <tbody>\n",
       "    <tr>\n",
       "      <th>0</th>\n",
       "      <td>25028</td>\n",
       "      <td>Classical Mythology</td>\n",
       "      <td>Mark P. O. Morford</td>\n",
       "      <td>2002</td>\n",
       "      <td>Oxford University Press</td>\n",
       "    </tr>\n",
       "    <tr>\n",
       "      <th>1</th>\n",
       "      <td>73</td>\n",
       "      <td>Clara Callan</td>\n",
       "      <td>Richard Bruce Wright</td>\n",
       "      <td>2001</td>\n",
       "      <td>HarperFlamingo Canada</td>\n",
       "    </tr>\n",
       "    <tr>\n",
       "      <th>2</th>\n",
       "      <td>8211</td>\n",
       "      <td>Decision in Normandy</td>\n",
       "      <td>Carlo D'Este</td>\n",
       "      <td>1991</td>\n",
       "      <td>HarperPerennial</td>\n",
       "    </tr>\n",
       "    <tr>\n",
       "      <th>3</th>\n",
       "      <td>60198</td>\n",
       "      <td>Flu: The Story of the Great Influenza Pandemic...</td>\n",
       "      <td>Gina Bari Kolata</td>\n",
       "      <td>1999</td>\n",
       "      <td>Farrar Straus Giroux</td>\n",
       "    </tr>\n",
       "    <tr>\n",
       "      <th>4</th>\n",
       "      <td>71711</td>\n",
       "      <td>The Mummies of Urumchi</td>\n",
       "      <td>E. J. W. Barber</td>\n",
       "      <td>1999</td>\n",
       "      <td>W. W. Norton &amp;amp; Company</td>\n",
       "    </tr>\n",
       "  </tbody>\n",
       "</table>\n",
       "</div>"
      ],
      "text/plain": [
       "    ISBN                                         Book-Title  \\\n",
       "0  25028                                Classical Mythology   \n",
       "1     73                                       Clara Callan   \n",
       "2   8211                               Decision in Normandy   \n",
       "3  60198  Flu: The Story of the Great Influenza Pandemic...   \n",
       "4  71711                             The Mummies of Urumchi   \n",
       "\n",
       "            Book-Author Year-Of-Publication                   Publisher  \n",
       "0    Mark P. O. Morford                2002     Oxford University Press  \n",
       "1  Richard Bruce Wright                2001       HarperFlamingo Canada  \n",
       "2          Carlo D'Este                1991             HarperPerennial  \n",
       "3      Gina Bari Kolata                1999        Farrar Straus Giroux  \n",
       "4       E. J. W. Barber                1999  W. W. Norton &amp; Company  "
      ]
     },
     "execution_count": 35,
     "metadata": {},
     "output_type": "execute_result"
    }
   ],
   "source": [
    "books.head()"
   ]
  },
  {
   "cell_type": "code",
   "execution_count": 36,
   "metadata": {},
   "outputs": [
    {
     "name": "stdout",
     "output_type": "stream",
     "text": [
      "<class 'pandas.core.frame.DataFrame'>\n",
      "Int64Index: 271358 entries, 0 to 271360\n",
      "Data columns (total 5 columns):\n",
      " #   Column               Non-Null Count   Dtype \n",
      "---  ------               --------------   ----- \n",
      " 0   ISBN                 271358 non-null  int32 \n",
      " 1   Book-Title           271358 non-null  object\n",
      " 2   Book-Author          271358 non-null  object\n",
      " 3   Year-Of-Publication  271358 non-null  object\n",
      " 4   Publisher            271358 non-null  object\n",
      "dtypes: int32(1), object(4)\n",
      "memory usage: 11.4+ MB\n"
     ]
    }
   ],
   "source": [
    "books.info()"
   ]
  },
  {
   "cell_type": "markdown",
   "metadata": {},
   "source": [
    "#### Users"
   ]
  },
  {
   "cell_type": "code",
   "execution_count": 37,
   "metadata": {},
   "outputs": [
    {
     "data": {
      "text/html": [
       "<div>\n",
       "<style scoped>\n",
       "    .dataframe tbody tr th:only-of-type {\n",
       "        vertical-align: middle;\n",
       "    }\n",
       "\n",
       "    .dataframe tbody tr th {\n",
       "        vertical-align: top;\n",
       "    }\n",
       "\n",
       "    .dataframe thead th {\n",
       "        text-align: right;\n",
       "    }\n",
       "</style>\n",
       "<table border=\"1\" class=\"dataframe\">\n",
       "  <thead>\n",
       "    <tr style=\"text-align: right;\">\n",
       "      <th></th>\n",
       "      <th>User-ID</th>\n",
       "      <th>Age</th>\n",
       "      <th>City</th>\n",
       "      <th>State</th>\n",
       "      <th>Country</th>\n",
       "    </tr>\n",
       "  </thead>\n",
       "  <tbody>\n",
       "    <tr>\n",
       "      <th>0</th>\n",
       "      <td>0</td>\n",
       "      <td>28</td>\n",
       "      <td>Nyc</td>\n",
       "      <td>New York</td>\n",
       "      <td>Usa</td>\n",
       "    </tr>\n",
       "    <tr>\n",
       "      <th>1</th>\n",
       "      <td>2</td>\n",
       "      <td>34</td>\n",
       "      <td>Moscow</td>\n",
       "      <td>Yukon Territory</td>\n",
       "      <td>Russia</td>\n",
       "    </tr>\n",
       "    <tr>\n",
       "      <th>2</th>\n",
       "      <td>4</td>\n",
       "      <td>32</td>\n",
       "      <td>Farnborough</td>\n",
       "      <td>Hants</td>\n",
       "      <td>United Kingdom</td>\n",
       "    </tr>\n",
       "    <tr>\n",
       "      <th>3</th>\n",
       "      <td>6</td>\n",
       "      <td>36</td>\n",
       "      <td>Washington</td>\n",
       "      <td>Dc</td>\n",
       "      <td>Usa</td>\n",
       "    </tr>\n",
       "    <tr>\n",
       "      <th>4</th>\n",
       "      <td>7</td>\n",
       "      <td>24</td>\n",
       "      <td>Timmins</td>\n",
       "      <td>Ontario</td>\n",
       "      <td>Canada</td>\n",
       "    </tr>\n",
       "  </tbody>\n",
       "</table>\n",
       "</div>"
      ],
      "text/plain": [
       "   User-ID  Age         City            State         Country\n",
       "0        0   28          Nyc         New York             Usa\n",
       "1        2   34       Moscow  Yukon Territory          Russia\n",
       "2        4   32  Farnborough            Hants  United Kingdom\n",
       "3        6   36   Washington               Dc             Usa\n",
       "4        7   24      Timmins          Ontario          Canada"
      ]
     },
     "execution_count": 37,
     "metadata": {},
     "output_type": "execute_result"
    }
   ],
   "source": [
    "users.head()"
   ]
  },
  {
   "cell_type": "code",
   "execution_count": 38,
   "metadata": {},
   "outputs": [
    {
     "name": "stdout",
     "output_type": "stream",
     "text": [
      "<class 'pandas.core.frame.DataFrame'>\n",
      "RangeIndex: 278858 entries, 0 to 278857\n",
      "Data columns (total 5 columns):\n",
      " #   Column   Non-Null Count   Dtype \n",
      "---  ------   --------------   ----- \n",
      " 0   User-ID  278858 non-null  int64 \n",
      " 1   Age      278858 non-null  int32 \n",
      " 2   City     278858 non-null  object\n",
      " 3   State    278858 non-null  object\n",
      " 4   Country  278858 non-null  object\n",
      "dtypes: int32(1), int64(1), object(3)\n",
      "memory usage: 9.6+ MB\n"
     ]
    }
   ],
   "source": [
    "users.info()"
   ]
  },
  {
   "attachments": {},
   "cell_type": "markdown",
   "metadata": {},
   "source": [
    "## Building Recommendation System\n",
    "In this section, I will be building a recommendation system. But before then, I will create a traininig and testing set to test the performance of my model. The library that can help in the splitting of the dataset into training and testing set is `train_test_split()` function of sklearn library."
   ]
  },
  {
   "cell_type": "code",
   "execution_count": 39,
   "metadata": {},
   "outputs": [],
   "source": [
    "from model import RecommendationSystem"
   ]
  },
  {
   "cell_type": "code",
   "execution_count": 40,
   "metadata": {},
   "outputs": [],
   "source": [
    "rmodel = RecommendationSystem(ratings=ratings,\n",
    "                              books=books,\n",
    "                              users=users)"
   ]
  },
  {
   "cell_type": "code",
   "execution_count": 41,
   "metadata": {},
   "outputs": [
    {
     "name": "stdout",
     "output_type": "stream",
     "text": [
      "Epoch 1/10\n",
      "10556/10556 [==============================] - 928s 88ms/step - loss: 61.4510 - val_loss: 60.4877\n",
      "Epoch 2/10\n",
      "10556/10556 [==============================] - 924s 87ms/step - loss: 56.2868 - val_loss: 53.0246\n",
      "Epoch 3/10\n",
      "10556/10556 [==============================] - 874s 83ms/step - loss: 45.5371 - val_loss: 46.0383\n",
      "Epoch 4/10\n",
      "10556/10556 [==============================] - 5424s 514ms/step - loss: 36.5521 - val_loss: 41.3468\n",
      "Epoch 5/10\n",
      "10556/10556 [==============================] - 1054s 100ms/step - loss: 29.5829 - val_loss: 38.1337\n",
      "Epoch 6/10\n",
      "10556/10556 [==============================] - 1549s 147ms/step - loss: 24.1338 - val_loss: 35.9600\n",
      "Epoch 7/10\n",
      "10556/10556 [==============================] - 1247s 118ms/step - loss: 19.8828 - val_loss: 34.4606\n",
      "Epoch 8/10\n",
      "10556/10556 [==============================] - 1279s 121ms/step - loss: 16.5404 - val_loss: 33.3882\n",
      "Epoch 9/10\n",
      "10556/10556 [==============================] - 1101s 104ms/step - loss: 13.8890 - val_loss: 32.6280\n",
      "Epoch 10/10\n",
      "10556/10556 [==============================] - 1099s 104ms/step - loss: 11.7700 - val_loss: 32.0556\n"
     ]
    }
   ],
   "source": [
    "rmodel.build_fit_model()"
   ]
  },
  {
   "attachments": {},
   "cell_type": "markdown",
   "metadata": {},
   "source": [
    "#### Recommend books to a user [`276821`]\n",
    "> * These are the books the interested user (i.e., `276821`) has read:"
   ]
  },
  {
   "cell_type": "code",
   "execution_count": 48,
   "metadata": {},
   "outputs": [
    {
     "data": {
      "text/html": [
       "<div>\n",
       "<style scoped>\n",
       "    .dataframe tbody tr th:only-of-type {\n",
       "        vertical-align: middle;\n",
       "    }\n",
       "\n",
       "    .dataframe tbody tr th {\n",
       "        vertical-align: top;\n",
       "    }\n",
       "\n",
       "    .dataframe thead th {\n",
       "        text-align: right;\n",
       "    }\n",
       "</style>\n",
       "<table border=\"1\" class=\"dataframe\">\n",
       "  <thead>\n",
       "    <tr style=\"text-align: right;\">\n",
       "      <th></th>\n",
       "      <th>ISBN</th>\n",
       "      <th>Book-Title</th>\n",
       "      <th>Book-Author</th>\n",
       "      <th>Year-Of-Publication</th>\n",
       "      <th>Publisher</th>\n",
       "    </tr>\n",
       "  </thead>\n",
       "  <tbody>\n",
       "    <tr>\n",
       "      <th>1027</th>\n",
       "      <td>62977</td>\n",
       "      <td>Hoot (Newbery Honor Book)</td>\n",
       "      <td>CARL HIAASEN</td>\n",
       "      <td>2002</td>\n",
       "      <td>Knopf Books for Young Readers</td>\n",
       "    </tr>\n",
       "    <tr>\n",
       "      <th>15602</th>\n",
       "      <td>169901</td>\n",
       "      <td>Artemis Fowl (Artemis Fowl, Book 1)</td>\n",
       "      <td>Eoin Colfer</td>\n",
       "      <td>2002</td>\n",
       "      <td>Miramax Kids</td>\n",
       "    </tr>\n",
       "    <tr>\n",
       "      <th>17084</th>\n",
       "      <td>3504</td>\n",
       "      <td>The Boy Next Door</td>\n",
       "      <td>Meggin Cabot</td>\n",
       "      <td>2002</td>\n",
       "      <td>Avon Trade</td>\n",
       "    </tr>\n",
       "    <tr>\n",
       "      <th>27516</th>\n",
       "      <td>65338</td>\n",
       "      <td>A Kid's Guide to How to Save the Planet (Camel...</td>\n",
       "      <td>Billy Goodman</td>\n",
       "      <td>1990</td>\n",
       "      <td>Harpercollins Juvenile Books</td>\n",
       "    </tr>\n",
       "    <tr>\n",
       "      <th>34236</th>\n",
       "      <td>21203</td>\n",
       "      <td>Skin and Other Stories (Now in Speak!)</td>\n",
       "      <td>Roald Dahl</td>\n",
       "      <td>2002</td>\n",
       "      <td>Puffin Books</td>\n",
       "    </tr>\n",
       "    <tr>\n",
       "      <th>50710</th>\n",
       "      <td>176320</td>\n",
       "      <td>The Number Devil: A Mathematical Adventure</td>\n",
       "      <td>Hans Magnus Enzensberger</td>\n",
       "      <td>1998</td>\n",
       "      <td>Henry Holt &amp;amp; Company</td>\n",
       "    </tr>\n",
       "    <tr>\n",
       "      <th>80669</th>\n",
       "      <td>151553</td>\n",
       "      <td>A String in the Harp</td>\n",
       "      <td>Nancy Bond</td>\n",
       "      <td>1996</td>\n",
       "      <td>Aladdin</td>\n",
       "    </tr>\n",
       "    <tr>\n",
       "      <th>88354</th>\n",
       "      <td>169814</td>\n",
       "      <td>The Sandy Bottom Orchestra</td>\n",
       "      <td>Jenny Nilson</td>\n",
       "      <td>1998</td>\n",
       "      <td>Hyperion Books for Children</td>\n",
       "    </tr>\n",
       "    <tr>\n",
       "      <th>115319</th>\n",
       "      <td>84836</td>\n",
       "      <td>The Contest</td>\n",
       "      <td>Gordon Korman</td>\n",
       "      <td>2002</td>\n",
       "      <td>Scholastic</td>\n",
       "    </tr>\n",
       "    <tr>\n",
       "      <th>140332</th>\n",
       "      <td>231140</td>\n",
       "      <td>Random Acts of Kindness</td>\n",
       "      <td>Dawna Markova</td>\n",
       "      <td>2002</td>\n",
       "      <td>Conari Press</td>\n",
       "    </tr>\n",
       "    <tr>\n",
       "      <th>178112</th>\n",
       "      <td>21646</td>\n",
       "      <td>Growing Wings</td>\n",
       "      <td>Laurel Winter</td>\n",
       "      <td>2002</td>\n",
       "      <td>Puffin Books</td>\n",
       "    </tr>\n",
       "    <tr>\n",
       "      <th>216313</th>\n",
       "      <td>219429</td>\n",
       "      <td>Surviving Sam</td>\n",
       "      <td>Karen Rivers</td>\n",
       "      <td>2002</td>\n",
       "      <td>Polestar Book Publishers</td>\n",
       "    </tr>\n",
       "    <tr>\n",
       "      <th>233867</th>\n",
       "      <td>23063</td>\n",
       "      <td>The Riddle of Scheherazade: And Other Amazing ...</td>\n",
       "      <td>Raymond Smullyan</td>\n",
       "      <td>1998</td>\n",
       "      <td>Harvest Books</td>\n",
       "    </tr>\n",
       "  </tbody>\n",
       "</table>\n",
       "</div>"
      ],
      "text/plain": [
       "          ISBN                                         Book-Title  \\\n",
       "1027     62977                          Hoot (Newbery Honor Book)   \n",
       "15602   169901                Artemis Fowl (Artemis Fowl, Book 1)   \n",
       "17084     3504                                  The Boy Next Door   \n",
       "27516    65338  A Kid's Guide to How to Save the Planet (Camel...   \n",
       "34236    21203             Skin and Other Stories (Now in Speak!)   \n",
       "50710   176320         The Number Devil: A Mathematical Adventure   \n",
       "80669   151553                               A String in the Harp   \n",
       "88354   169814                         The Sandy Bottom Orchestra   \n",
       "115319   84836                                        The Contest   \n",
       "140332  231140                            Random Acts of Kindness   \n",
       "178112   21646                                      Growing Wings   \n",
       "216313  219429                                      Surviving Sam   \n",
       "233867   23063  The Riddle of Scheherazade: And Other Amazing ...   \n",
       "\n",
       "                     Book-Author Year-Of-Publication  \\\n",
       "1027                CARL HIAASEN                2002   \n",
       "15602                Eoin Colfer                2002   \n",
       "17084               Meggin Cabot                2002   \n",
       "27516              Billy Goodman                1990   \n",
       "34236                 Roald Dahl                2002   \n",
       "50710   Hans Magnus Enzensberger                1998   \n",
       "80669                 Nancy Bond                1996   \n",
       "88354               Jenny Nilson                1998   \n",
       "115319             Gordon Korman                2002   \n",
       "140332             Dawna Markova                2002   \n",
       "178112             Laurel Winter                2002   \n",
       "216313              Karen Rivers                2002   \n",
       "233867          Raymond Smullyan                1998   \n",
       "\n",
       "                            Publisher  \n",
       "1027    Knopf Books for Young Readers  \n",
       "15602                    Miramax Kids  \n",
       "17084                      Avon Trade  \n",
       "27516    Harpercollins Juvenile Books  \n",
       "34236                    Puffin Books  \n",
       "50710        Henry Holt &amp; Company  \n",
       "80669                         Aladdin  \n",
       "88354     Hyperion Books for Children  \n",
       "115319                     Scholastic  \n",
       "140332                   Conari Press  \n",
       "178112                   Puffin Books  \n",
       "216313       Polestar Book Publishers  \n",
       "233867                  Harvest Books  "
      ]
     },
     "execution_count": 48,
     "metadata": {},
     "output_type": "execute_result"
    }
   ],
   "source": [
    "books.loc[books['ISBN'].isin(ratings.loc[ratings['User-ID']==276821, \"ISBN\"])]"
   ]
  },
  {
   "cell_type": "markdown",
   "metadata": {},
   "source": [
    "* These are the books recommended to the user:"
   ]
  },
  {
   "cell_type": "code",
   "execution_count": 49,
   "metadata": {},
   "outputs": [
    {
     "name": "stdout",
     "output_type": "stream",
     "text": [
      "Recommended book 1: 'Seta' <====> Score: 18.21733856201172\n",
      "Recommended book 2: 'Il Piccolo Principe Prince Italn' <====> Score: 17.39213752746582\n",
      "Recommended book 3: \"The Razor's Edge (Penguin Twentieth-Century Classics)\" <====> Score: 16.505367279052734\n",
      "Recommended book 4: 'The Nanny Diaries: A Novel' <====> Score: 16.434738159179688\n",
      "Recommended book 5: 'Son De Mar' <====> Score: 16.265371322631836\n",
      "Recommended book 6: 'A Prayer for Owen Meany' <====> Score: 15.911930084228516\n",
      "Recommended book 7: \"The Bonesetter's Daughter\" <====> Score: 15.547650337219238\n",
      "Recommended book 8: 'The SECRET BOOK OF GRAZIA DEI ROSSI' <====> Score: 15.20815658569336\n",
      "Recommended book 9: 'Summer Sisters' <====> Score: 15.160934448242188\n",
      "Recommended book 10: 'Prodigal Summer: A Novel' <====> Score: 15.15168571472168\n"
     ]
    }
   ],
   "source": [
    "rmodel.recommend_books(276821)"
   ]
  },
  {
   "cell_type": "markdown",
   "metadata": {},
   "source": [
    "More details about the different recommended books:"
   ]
  },
  {
   "cell_type": "code",
   "execution_count": 50,
   "metadata": {},
   "outputs": [
    {
     "data": {
      "text/html": [
       "<div>\n",
       "<style scoped>\n",
       "    .dataframe tbody tr th:only-of-type {\n",
       "        vertical-align: middle;\n",
       "    }\n",
       "\n",
       "    .dataframe tbody tr th {\n",
       "        vertical-align: top;\n",
       "    }\n",
       "\n",
       "    .dataframe thead th {\n",
       "        text-align: right;\n",
       "    }\n",
       "</style>\n",
       "<table border=\"1\" class=\"dataframe\">\n",
       "  <thead>\n",
       "    <tr style=\"text-align: right;\">\n",
       "      <th></th>\n",
       "      <th>ISBN</th>\n",
       "      <th>Book-Title</th>\n",
       "      <th>Book-Author</th>\n",
       "      <th>Year-Of-Publication</th>\n",
       "      <th>Publisher</th>\n",
       "    </tr>\n",
       "  </thead>\n",
       "  <tbody>\n",
       "    <tr>\n",
       "      <th>541</th>\n",
       "      <td>33527</td>\n",
       "      <td>The Nanny Diaries: A Novel</td>\n",
       "      <td>Emma McLaughlin</td>\n",
       "      <td>2002</td>\n",
       "      <td>St. Martin's Press</td>\n",
       "    </tr>\n",
       "    <tr>\n",
       "      <th>1387</th>\n",
       "      <td>43951</td>\n",
       "      <td>A Prayer for Owen Meany</td>\n",
       "      <td>John Irving</td>\n",
       "      <td>1990</td>\n",
       "      <td>Ballantine Books</td>\n",
       "    </tr>\n",
       "    <tr>\n",
       "      <th>1680</th>\n",
       "      <td>87388</td>\n",
       "      <td>Summer Sisters</td>\n",
       "      <td>Judy Blume</td>\n",
       "      <td>1999</td>\n",
       "      <td>Dell Publishing Company</td>\n",
       "    </tr>\n",
       "    <tr>\n",
       "      <th>5065</th>\n",
       "      <td>7912</td>\n",
       "      <td>Prodigal Summer: A Novel</td>\n",
       "      <td>Barbara Kingsolver</td>\n",
       "      <td>2001</td>\n",
       "      <td>Perennial</td>\n",
       "    </tr>\n",
       "    <tr>\n",
       "      <th>5105</th>\n",
       "      <td>268815</td>\n",
       "      <td>Son De Mar</td>\n",
       "      <td>Manuel Vicent</td>\n",
       "      <td>2002</td>\n",
       "      <td>Suma de Letras</td>\n",
       "    </tr>\n",
       "    <tr>\n",
       "      <th>5253</th>\n",
       "      <td>269392</td>\n",
       "      <td>Seta</td>\n",
       "      <td>Alessandro Baricco</td>\n",
       "      <td>0</td>\n",
       "      <td>Rizzoli - RCS Libri</td>\n",
       "    </tr>\n",
       "    <tr>\n",
       "      <th>5977</th>\n",
       "      <td>175248</td>\n",
       "      <td>The Bonesetter's Daughter</td>\n",
       "      <td>Amy Tan</td>\n",
       "      <td>2002</td>\n",
       "      <td>Ballantine Books</td>\n",
       "    </tr>\n",
       "    <tr>\n",
       "      <th>6413</th>\n",
       "      <td>148343</td>\n",
       "      <td>The SECRET BOOK OF GRAZIA DEI ROSSI</td>\n",
       "      <td>Jacqueline Park</td>\n",
       "      <td>1998</td>\n",
       "      <td>Simon &amp;amp; Schuster</td>\n",
       "    </tr>\n",
       "    <tr>\n",
       "      <th>12620</th>\n",
       "      <td>269561</td>\n",
       "      <td>Il Piccolo Principe Prince Italn</td>\n",
       "      <td>Antoine de Saint-Exupéry</td>\n",
       "      <td>0</td>\n",
       "      <td>Bompiani Italian</td>\n",
       "    </tr>\n",
       "    <tr>\n",
       "      <th>27588</th>\n",
       "      <td>17233</td>\n",
       "      <td>The Razor's Edge (Penguin Twentieth-Century Cl...</td>\n",
       "      <td>W. Somerset Maugham</td>\n",
       "      <td>1992</td>\n",
       "      <td>Penguin Books</td>\n",
       "    </tr>\n",
       "  </tbody>\n",
       "</table>\n",
       "</div>"
      ],
      "text/plain": [
       "         ISBN                                         Book-Title  \\\n",
       "541     33527                         The Nanny Diaries: A Novel   \n",
       "1387    43951                            A Prayer for Owen Meany   \n",
       "1680    87388                                     Summer Sisters   \n",
       "5065     7912                           Prodigal Summer: A Novel   \n",
       "5105   268815                                         Son De Mar   \n",
       "5253   269392                                               Seta   \n",
       "5977   175248                          The Bonesetter's Daughter   \n",
       "6413   148343                The SECRET BOOK OF GRAZIA DEI ROSSI   \n",
       "12620  269561                   Il Piccolo Principe Prince Italn   \n",
       "27588   17233  The Razor's Edge (Penguin Twentieth-Century Cl...   \n",
       "\n",
       "                    Book-Author Year-Of-Publication                Publisher  \n",
       "541             Emma McLaughlin                2002       St. Martin's Press  \n",
       "1387                John Irving                1990         Ballantine Books  \n",
       "1680                 Judy Blume                1999  Dell Publishing Company  \n",
       "5065         Barbara Kingsolver                2001                Perennial  \n",
       "5105              Manuel Vicent                2002           Suma de Letras  \n",
       "5253         Alessandro Baricco                   0      Rizzoli - RCS Libri  \n",
       "5977                    Amy Tan                2002         Ballantine Books  \n",
       "6413            Jacqueline Park                1998     Simon &amp; Schuster  \n",
       "12620  Antoine de Saint-Exupéry                   0         Bompiani Italian  \n",
       "27588       W. Somerset Maugham                1992            Penguin Books  "
      ]
     },
     "execution_count": 50,
     "metadata": {},
     "output_type": "execute_result"
    }
   ],
   "source": [
    "rmodel.recommended_books_table()"
   ]
  },
  {
   "cell_type": "markdown",
   "metadata": {},
   "source": [
    "#### Recommend books to a user [`103`]\n",
    "> * These are the books the interested user (i.e., `103`) has read:"
   ]
  },
  {
   "cell_type": "code",
   "execution_count": 51,
   "metadata": {},
   "outputs": [
    {
     "data": {
      "text/html": [
       "<div>\n",
       "<style scoped>\n",
       "    .dataframe tbody tr th:only-of-type {\n",
       "        vertical-align: middle;\n",
       "    }\n",
       "\n",
       "    .dataframe tbody tr th {\n",
       "        vertical-align: top;\n",
       "    }\n",
       "\n",
       "    .dataframe thead th {\n",
       "        text-align: right;\n",
       "    }\n",
       "</style>\n",
       "<table border=\"1\" class=\"dataframe\">\n",
       "  <thead>\n",
       "    <tr style=\"text-align: right;\">\n",
       "      <th></th>\n",
       "      <th>ISBN</th>\n",
       "      <th>Book-Title</th>\n",
       "      <th>Book-Author</th>\n",
       "      <th>Year-Of-Publication</th>\n",
       "      <th>Publisher</th>\n",
       "    </tr>\n",
       "  </thead>\n",
       "  <tbody>\n",
       "    <tr>\n",
       "      <th>202</th>\n",
       "      <td>8384</td>\n",
       "      <td>The God of Small Things</td>\n",
       "      <td>Arundhati Roy</td>\n",
       "      <td>1998</td>\n",
       "      <td>Perennial</td>\n",
       "    </tr>\n",
       "    <tr>\n",
       "      <th>210</th>\n",
       "      <td>60910</td>\n",
       "      <td>Memoirs of a Geisha</td>\n",
       "      <td>Arthur Golden</td>\n",
       "      <td>1997</td>\n",
       "      <td>Alfred A. Knopf</td>\n",
       "    </tr>\n",
       "    <tr>\n",
       "      <th>217</th>\n",
       "      <td>69454</td>\n",
       "      <td>Legacy of Silence</td>\n",
       "      <td>Belva Plain</td>\n",
       "      <td>1998</td>\n",
       "      <td>Bantam Dell Pub Group</td>\n",
       "    </tr>\n",
       "    <tr>\n",
       "      <th>227</th>\n",
       "      <td>95511</td>\n",
       "      <td>Manhattan Hunt Club</td>\n",
       "      <td>JOHN SAUL</td>\n",
       "      <td>2002</td>\n",
       "      <td>Ballantine Books</td>\n",
       "    </tr>\n",
       "    <tr>\n",
       "      <th>233</th>\n",
       "      <td>122142</td>\n",
       "      <td>The Patient</td>\n",
       "      <td>Michael Palmer</td>\n",
       "      <td>2001</td>\n",
       "      <td>Bantam Books</td>\n",
       "    </tr>\n",
       "    <tr>\n",
       "      <th>240</th>\n",
       "      <td>170267</td>\n",
       "      <td>A Monk Swimming</td>\n",
       "      <td>Malachy McCourt</td>\n",
       "      <td>1998</td>\n",
       "      <td>Hyperion</td>\n",
       "    </tr>\n",
       "    <tr>\n",
       "      <th>241</th>\n",
       "      <td>174361</td>\n",
       "      <td>Crazy Horse</td>\n",
       "      <td>Mari Sandoz</td>\n",
       "      <td>1961</td>\n",
       "      <td>University of Nebraska Press</td>\n",
       "    </tr>\n",
       "    <tr>\n",
       "      <th>244</th>\n",
       "      <td>222520</td>\n",
       "      <td>Chicken Soup for the Soul (Chicken Soup for th...</td>\n",
       "      <td>Jack Canfield</td>\n",
       "      <td>1993</td>\n",
       "      <td>Health Communications</td>\n",
       "    </tr>\n",
       "    <tr>\n",
       "      <th>305</th>\n",
       "      <td>87704</td>\n",
       "      <td>A Painted House</td>\n",
       "      <td>John Grisham</td>\n",
       "      <td>2001</td>\n",
       "      <td>Dell Publishing Company</td>\n",
       "    </tr>\n",
       "    <tr>\n",
       "      <th>516</th>\n",
       "      <td>7063</td>\n",
       "      <td>The Bean Trees</td>\n",
       "      <td>Barbara Kingsolver</td>\n",
       "      <td>1989</td>\n",
       "      <td>Perennial</td>\n",
       "    </tr>\n",
       "    <tr>\n",
       "      <th>833</th>\n",
       "      <td>38919</td>\n",
       "      <td>Me Talk Pretty One Day</td>\n",
       "      <td>David Sedaris</td>\n",
       "      <td>2001</td>\n",
       "      <td>Back Bay Books</td>\n",
       "    </tr>\n",
       "    <tr>\n",
       "      <th>3269</th>\n",
       "      <td>71144</td>\n",
       "      <td>A Map of the World</td>\n",
       "      <td>Jane Hamilton</td>\n",
       "      <td>1999</td>\n",
       "      <td>Anchor Books/Doubleday</td>\n",
       "    </tr>\n",
       "    <tr>\n",
       "      <th>3729</th>\n",
       "      <td>93687</td>\n",
       "      <td>The Midnight Club</td>\n",
       "      <td>James Patterson</td>\n",
       "      <td>1999</td>\n",
       "      <td>Warner Vision</td>\n",
       "    </tr>\n",
       "    <tr>\n",
       "      <th>4824</th>\n",
       "      <td>38642</td>\n",
       "      <td>The Pilot's Wife : A Novel</td>\n",
       "      <td>Anita Shreve</td>\n",
       "      <td>1999</td>\n",
       "      <td>Back Bay Books</td>\n",
       "    </tr>\n",
       "    <tr>\n",
       "      <th>7541</th>\n",
       "      <td>39158</td>\n",
       "      <td>River, Cross My Heart</td>\n",
       "      <td>Breena Clarke</td>\n",
       "      <td>1999</td>\n",
       "      <td>Little Brown &amp;amp; Company</td>\n",
       "    </tr>\n",
       "    <tr>\n",
       "      <th>11454</th>\n",
       "      <td>82087</td>\n",
       "      <td>Unnatural Exposure</td>\n",
       "      <td>Patricia Daniels Cornwell</td>\n",
       "      <td>1998</td>\n",
       "      <td>Berkley Publishing Group</td>\n",
       "    </tr>\n",
       "    <tr>\n",
       "      <th>15411</th>\n",
       "      <td>18133</td>\n",
       "      <td>Vanished</td>\n",
       "      <td>Mary McGarry Morris</td>\n",
       "      <td>1997</td>\n",
       "      <td>Penguin Books</td>\n",
       "    </tr>\n",
       "    <tr>\n",
       "      <th>15412</th>\n",
       "      <td>92240</td>\n",
       "      <td>The General's Daughter</td>\n",
       "      <td>Nelson DeMille</td>\n",
       "      <td>1993</td>\n",
       "      <td>Warner Books</td>\n",
       "    </tr>\n",
       "  </tbody>\n",
       "</table>\n",
       "</div>"
      ],
      "text/plain": [
       "         ISBN                                         Book-Title  \\\n",
       "202      8384                            The God of Small Things   \n",
       "210     60910                                Memoirs of a Geisha   \n",
       "217     69454                                  Legacy of Silence   \n",
       "227     95511                                Manhattan Hunt Club   \n",
       "233    122142                                        The Patient   \n",
       "240    170267                                    A Monk Swimming   \n",
       "241    174361                                        Crazy Horse   \n",
       "244    222520  Chicken Soup for the Soul (Chicken Soup for th...   \n",
       "305     87704                                    A Painted House   \n",
       "516      7063                                     The Bean Trees   \n",
       "833     38919                             Me Talk Pretty One Day   \n",
       "3269    71144                                 A Map of the World   \n",
       "3729    93687                                  The Midnight Club   \n",
       "4824    38642                         The Pilot's Wife : A Novel   \n",
       "7541    39158                              River, Cross My Heart   \n",
       "11454   82087                                 Unnatural Exposure   \n",
       "15411   18133                                           Vanished   \n",
       "15412   92240                             The General's Daughter   \n",
       "\n",
       "                     Book-Author Year-Of-Publication  \\\n",
       "202                Arundhati Roy                1998   \n",
       "210                Arthur Golden                1997   \n",
       "217                  Belva Plain                1998   \n",
       "227                    JOHN SAUL                2002   \n",
       "233               Michael Palmer                2001   \n",
       "240              Malachy McCourt                1998   \n",
       "241                  Mari Sandoz                1961   \n",
       "244                Jack Canfield                1993   \n",
       "305                 John Grisham                2001   \n",
       "516           Barbara Kingsolver                1989   \n",
       "833                David Sedaris                2001   \n",
       "3269               Jane Hamilton                1999   \n",
       "3729             James Patterson                1999   \n",
       "4824                Anita Shreve                1999   \n",
       "7541               Breena Clarke                1999   \n",
       "11454  Patricia Daniels Cornwell                1998   \n",
       "15411        Mary McGarry Morris                1997   \n",
       "15412             Nelson DeMille                1993   \n",
       "\n",
       "                          Publisher  \n",
       "202                       Perennial  \n",
       "210                 Alfred A. Knopf  \n",
       "217           Bantam Dell Pub Group  \n",
       "227                Ballantine Books  \n",
       "233                    Bantam Books  \n",
       "240                        Hyperion  \n",
       "241    University of Nebraska Press  \n",
       "244           Health Communications  \n",
       "305         Dell Publishing Company  \n",
       "516                       Perennial  \n",
       "833                  Back Bay Books  \n",
       "3269         Anchor Books/Doubleday  \n",
       "3729                  Warner Vision  \n",
       "4824                 Back Bay Books  \n",
       "7541     Little Brown &amp; Company  \n",
       "11454      Berkley Publishing Group  \n",
       "15411                 Penguin Books  \n",
       "15412                  Warner Books  "
      ]
     },
     "execution_count": 51,
     "metadata": {},
     "output_type": "execute_result"
    }
   ],
   "source": [
    "books.loc[books['ISBN'].isin(ratings.loc[ratings['User-ID']==242, \"ISBN\"])]"
   ]
  },
  {
   "cell_type": "markdown",
   "metadata": {},
   "source": [
    "* These are the books recommended to the user:"
   ]
  },
  {
   "cell_type": "code",
   "execution_count": 52,
   "metadata": {},
   "outputs": [
    {
     "name": "stdout",
     "output_type": "stream",
     "text": [
      "Recommended book 1: 'Jade Peony' <====> Score: 13.0747652053833\n",
      "Recommended book 2: 'Angels' <====> Score: 12.044463157653809\n",
      "Recommended book 3: 'Almost blue (Stile libero)' <====> Score: 12.008554458618164\n",
      "Recommended book 4: 'She Said Yes : The Unlikely Martyrdom of Cassie Bernall' <====> Score: 11.720483779907227\n",
      "Recommended book 5: 'Eine Frau, Eine Wohnung, Ein Roman' <====> Score: 11.709243774414062\n",
      "Recommended book 6: 'Io Non Ho Paura' <====> Score: 11.69848918914795\n",
      "Recommended book 7: 'L.A. Dead: A Stone Barrington Novel (Stone Barrington Novels (Paperback))' <====> Score: 10.739686012268066\n",
      "Recommended book 8: 'Happy Are the Peace Makers' <====> Score: 10.590791702270508\n",
      "Recommended book 9: 'Native Tongue' <====> Score: 10.561357498168945\n",
      "Recommended book 10: 'Das Echo.' <====> Score: 10.528139114379883\n"
     ]
    }
   ],
   "source": [
    "rmodel.recommend_books(242)"
   ]
  },
  {
   "cell_type": "markdown",
   "metadata": {},
   "source": [
    "More details about the different recommended books:"
   ]
  },
  {
   "cell_type": "code",
   "execution_count": 53,
   "metadata": {},
   "outputs": [
    {
     "data": {
      "text/html": [
       "<div>\n",
       "<style scoped>\n",
       "    .dataframe tbody tr th:only-of-type {\n",
       "        vertical-align: middle;\n",
       "    }\n",
       "\n",
       "    .dataframe tbody tr th {\n",
       "        vertical-align: top;\n",
       "    }\n",
       "\n",
       "    .dataframe thead th {\n",
       "        text-align: right;\n",
       "    }\n",
       "</style>\n",
       "<table border=\"1\" class=\"dataframe\">\n",
       "  <thead>\n",
       "    <tr style=\"text-align: right;\">\n",
       "      <th></th>\n",
       "      <th>ISBN</th>\n",
       "      <th>Book-Title</th>\n",
       "      <th>Book-Author</th>\n",
       "      <th>Year-Of-Publication</th>\n",
       "      <th>Publisher</th>\n",
       "    </tr>\n",
       "  </thead>\n",
       "  <tbody>\n",
       "    <tr>\n",
       "      <th>3209</th>\n",
       "      <td>269209</td>\n",
       "      <td>Almost blue (Stile libero)</td>\n",
       "      <td>Carlo Lucarelli</td>\n",
       "      <td>1997</td>\n",
       "      <td>Einaudi</td>\n",
       "    </tr>\n",
       "    <tr>\n",
       "      <th>5601</th>\n",
       "      <td>158257</td>\n",
       "      <td>She Said Yes : The Unlikely Martyrdom of Cassi...</td>\n",
       "      <td>Misty Bernall</td>\n",
       "      <td>2000</td>\n",
       "      <td>Pocket</td>\n",
       "    </tr>\n",
       "    <tr>\n",
       "      <th>6816</th>\n",
       "      <td>97046</td>\n",
       "      <td>Native Tongue</td>\n",
       "      <td>Carl Hiaasen</td>\n",
       "      <td>1992</td>\n",
       "      <td>Fawcett Books</td>\n",
       "    </tr>\n",
       "    <tr>\n",
       "      <th>7159</th>\n",
       "      <td>3236</td>\n",
       "      <td>Angels</td>\n",
       "      <td>Marian Keyes</td>\n",
       "      <td>2002</td>\n",
       "      <td>William Morrow</td>\n",
       "    </tr>\n",
       "    <tr>\n",
       "      <th>8753</th>\n",
       "      <td>269204</td>\n",
       "      <td>Io Non Ho Paura</td>\n",
       "      <td>Niccolo Ammaniti</td>\n",
       "      <td>2002</td>\n",
       "      <td>Distribooks Inc</td>\n",
       "    </tr>\n",
       "    <tr>\n",
       "      <th>11622</th>\n",
       "      <td>218379</td>\n",
       "      <td>Jade Peony</td>\n",
       "      <td>Wayson Choy</td>\n",
       "      <td>1995</td>\n",
       "      <td>Harpercollins Canada</td>\n",
       "    </tr>\n",
       "    <tr>\n",
       "      <th>26913</th>\n",
       "      <td>100935</td>\n",
       "      <td>L.A. Dead: A Stone Barrington Novel (Stone Bar...</td>\n",
       "      <td>Stuart Woods</td>\n",
       "      <td>2001</td>\n",
       "      <td>Signet Book</td>\n",
       "    </tr>\n",
       "    <tr>\n",
       "      <th>33734</th>\n",
       "      <td>256317</td>\n",
       "      <td>Das Echo.</td>\n",
       "      <td>Minette Walters</td>\n",
       "      <td>1999</td>\n",
       "      <td>Goldmann</td>\n",
       "    </tr>\n",
       "    <tr>\n",
       "      <th>45464</th>\n",
       "      <td>108428</td>\n",
       "      <td>Happy Are the Peace Makers</td>\n",
       "      <td>Andrew M. Greeley</td>\n",
       "      <td>1993</td>\n",
       "      <td>Jove Books</td>\n",
       "    </tr>\n",
       "    <tr>\n",
       "      <th>51797</th>\n",
       "      <td>257045</td>\n",
       "      <td>Eine Frau, Eine Wohnung, Ein Roman</td>\n",
       "      <td>Wilhelm Genazino</td>\n",
       "      <td>2003</td>\n",
       "      <td>Hanser Gardner Publications</td>\n",
       "    </tr>\n",
       "  </tbody>\n",
       "</table>\n",
       "</div>"
      ],
      "text/plain": [
       "         ISBN                                         Book-Title  \\\n",
       "3209   269209                         Almost blue (Stile libero)   \n",
       "5601   158257  She Said Yes : The Unlikely Martyrdom of Cassi...   \n",
       "6816    97046                                      Native Tongue   \n",
       "7159     3236                                             Angels   \n",
       "8753   269204                                    Io Non Ho Paura   \n",
       "11622  218379                                         Jade Peony   \n",
       "26913  100935  L.A. Dead: A Stone Barrington Novel (Stone Bar...   \n",
       "33734  256317                                          Das Echo.   \n",
       "45464  108428                         Happy Are the Peace Makers   \n",
       "51797  257045                 Eine Frau, Eine Wohnung, Ein Roman   \n",
       "\n",
       "             Book-Author Year-Of-Publication                    Publisher  \n",
       "3209     Carlo Lucarelli                1997                      Einaudi  \n",
       "5601       Misty Bernall                2000                       Pocket  \n",
       "6816        Carl Hiaasen                1992                Fawcett Books  \n",
       "7159        Marian Keyes                2002               William Morrow  \n",
       "8753    Niccolo Ammaniti                2002              Distribooks Inc  \n",
       "11622        Wayson Choy                1995         Harpercollins Canada  \n",
       "26913       Stuart Woods                2001                  Signet Book  \n",
       "33734    Minette Walters                1999                     Goldmann  \n",
       "45464  Andrew M. Greeley                1993                   Jove Books  \n",
       "51797   Wilhelm Genazino                2003  Hanser Gardner Publications  "
      ]
     },
     "execution_count": 53,
     "metadata": {},
     "output_type": "execute_result"
    }
   ],
   "source": [
    "rmodel.recommended_books_table()"
   ]
  },
  {
   "cell_type": "code",
   "execution_count": null,
   "metadata": {},
   "outputs": [],
   "source": []
  }
 ],
 "metadata": {
  "kernelspec": {
   "display_name": "venv",
   "language": "python",
   "name": "python3"
  },
  "language_info": {
   "codemirror_mode": {
    "name": "ipython",
    "version": 3
   },
   "file_extension": ".py",
   "mimetype": "text/x-python",
   "name": "python",
   "nbconvert_exporter": "python",
   "pygments_lexer": "ipython3",
   "version": "3.11.0"
  },
  "orig_nbformat": 4,
  "vscode": {
   "interpreter": {
    "hash": "d722206fe92351b8000764b72b896fe86bf5b2de20e2a40d3d83588bde24bf9f"
   }
  }
 },
 "nbformat": 4,
 "nbformat_minor": 2
}
