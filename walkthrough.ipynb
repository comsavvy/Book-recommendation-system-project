{
 "cells": [
  {
   "cell_type": "markdown",
   "metadata": {},
   "source": [
    "# Deep Learning $for$ Book Recommending System\n",
    "This is a project on a Recommendation system that suggest different books to users based on their past behavior i.e., likings and ratings. \n",
    "## About the dataset:\n",
    "The Book-Crossing dataset can be found on the following website:\n",
    "\n",
    "http://www2.informatik.uni-freiburg.de/~cziegler/BX/\n",
    "\n",
    "This dataset is a collaborative filtering dataset and contains information about users, books, and ratings. It was collected by Cai-Nicolas Ziegler in a 4-week crawl (August / September 2004) from the Book-Crossing community, and contains 278,858 users (anonymized) providing 1,149,780 ratings (explicit / implicit) about 271,379 books."
   ]
  },
  {
   "attachments": {},
   "cell_type": "markdown",
   "metadata": {},
   "source": [
    "## Load all necessary libraries\n",
    "This section is about importing all libraries that will make the project walkthrough a success without an error."
   ]
  },
  {
   "cell_type": "code",
   "execution_count": 1,
   "metadata": {},
   "outputs": [],
   "source": [
    "import numpy as np\n",
    "import pandas as pd\n",
    "import seaborn as sns\n",
    "from sklearn.preprocessing import LabelEncoder\n",
    "import tensorflow as tf"
   ]
  },
  {
   "attachments": {},
   "cell_type": "markdown",
   "metadata": {},
   "source": [
    "## Load the datasets into this workspace"
   ]
  },
  {
   "cell_type": "code",
   "execution_count": 2,
   "metadata": {},
   "outputs": [],
   "source": [
    "ratings = pd.read_csv(\"Data/BX-Book-Ratings.csv\", delimiter=\";\", on_bad_lines='skip')\n",
    "books = pd.read_csv(\"Data/BX-Books.csv\", delimiter=\";\", on_bad_lines='skip', low_memory=False)\n",
    "users = pd.read_csv(\"Data/BX-Users.csv\", delimiter=\";\", on_bad_lines='skip')"
   ]
  },
  {
   "attachments": {},
   "cell_type": "markdown",
   "metadata": {},
   "source": [
    "## Datasets overview and information"
   ]
  },
  {
   "attachments": {},
   "cell_type": "markdown",
   "metadata": {},
   "source": [
    "### Book Ratings\n",
    "To get the glimpse of the dataset, I will show the top 3 rows of the book ratings dataset."
   ]
  },
  {
   "cell_type": "code",
   "execution_count": 3,
   "metadata": {},
   "outputs": [
    {
     "data": {
      "text/html": [
       "<div>\n",
       "<style scoped>\n",
       "    .dataframe tbody tr th:only-of-type {\n",
       "        vertical-align: middle;\n",
       "    }\n",
       "\n",
       "    .dataframe tbody tr th {\n",
       "        vertical-align: top;\n",
       "    }\n",
       "\n",
       "    .dataframe thead th {\n",
       "        text-align: right;\n",
       "    }\n",
       "</style>\n",
       "<table border=\"1\" class=\"dataframe\">\n",
       "  <thead>\n",
       "    <tr style=\"text-align: right;\">\n",
       "      <th></th>\n",
       "      <th>User-ID</th>\n",
       "      <th>ISBN</th>\n",
       "      <th>Book-Rating</th>\n",
       "    </tr>\n",
       "  </thead>\n",
       "  <tbody>\n",
       "    <tr>\n",
       "      <th>0</th>\n",
       "      <td>276725</td>\n",
       "      <td>034545104X</td>\n",
       "      <td>0</td>\n",
       "    </tr>\n",
       "    <tr>\n",
       "      <th>1</th>\n",
       "      <td>276726</td>\n",
       "      <td>0155061224</td>\n",
       "      <td>5</td>\n",
       "    </tr>\n",
       "    <tr>\n",
       "      <th>2</th>\n",
       "      <td>276727</td>\n",
       "      <td>0446520802</td>\n",
       "      <td>0</td>\n",
       "    </tr>\n",
       "  </tbody>\n",
       "</table>\n",
       "</div>"
      ],
      "text/plain": [
       "   User-ID        ISBN  Book-Rating\n",
       "0   276725  034545104X            0\n",
       "1   276726  0155061224            5\n",
       "2   276727  0446520802            0"
      ]
     },
     "execution_count": 3,
     "metadata": {},
     "output_type": "execute_result"
    }
   ],
   "source": [
    "ratings.head(3)"
   ]
  },
  {
   "attachments": {},
   "cell_type": "markdown",
   "metadata": {},
   "source": [
    "* Brief information about different columns of the ratings dataframe:"
   ]
  },
  {
   "cell_type": "code",
   "execution_count": 4,
   "metadata": {},
   "outputs": [
    {
     "name": "stdout",
     "output_type": "stream",
     "text": [
      "<class 'pandas.core.frame.DataFrame'>\n",
      "RangeIndex: 1149780 entries, 0 to 1149779\n",
      "Data columns (total 3 columns):\n",
      " #   Column       Non-Null Count    Dtype \n",
      "---  ------       --------------    ----- \n",
      " 0   User-ID      1149780 non-null  int64 \n",
      " 1   ISBN         1149780 non-null  object\n",
      " 2   Book-Rating  1149780 non-null  int64 \n",
      "dtypes: int64(2), object(1)\n",
      "memory usage: 26.3+ MB\n"
     ]
    }
   ],
   "source": [
    "ratings.info()"
   ]
  },
  {
   "cell_type": "markdown",
   "metadata": {},
   "source": [
    "The `ISBN` (i.e., book-id) is represented as an object. What can causes this is non-numerical character in the ID."
   ]
  },
  {
   "attachments": {},
   "cell_type": "markdown",
   "metadata": {},
   "source": [
    "### Book information\n",
    "* Top 3 rows of the books information:"
   ]
  },
  {
   "cell_type": "code",
   "execution_count": 5,
   "metadata": {},
   "outputs": [
    {
     "data": {
      "text/html": [
       "<div>\n",
       "<style scoped>\n",
       "    .dataframe tbody tr th:only-of-type {\n",
       "        vertical-align: middle;\n",
       "    }\n",
       "\n",
       "    .dataframe tbody tr th {\n",
       "        vertical-align: top;\n",
       "    }\n",
       "\n",
       "    .dataframe thead th {\n",
       "        text-align: right;\n",
       "    }\n",
       "</style>\n",
       "<table border=\"1\" class=\"dataframe\">\n",
       "  <thead>\n",
       "    <tr style=\"text-align: right;\">\n",
       "      <th></th>\n",
       "      <th>ISBN</th>\n",
       "      <th>Book-Title</th>\n",
       "      <th>Book-Author</th>\n",
       "      <th>Year-Of-Publication</th>\n",
       "      <th>Publisher</th>\n",
       "      <th>Image-URL-S</th>\n",
       "      <th>Image-URL-M</th>\n",
       "      <th>Image-URL-L</th>\n",
       "    </tr>\n",
       "  </thead>\n",
       "  <tbody>\n",
       "    <tr>\n",
       "      <th>0</th>\n",
       "      <td>0195153448</td>\n",
       "      <td>Classical Mythology</td>\n",
       "      <td>Mark P. O. Morford</td>\n",
       "      <td>2002</td>\n",
       "      <td>Oxford University Press</td>\n",
       "      <td>http://images.amazon.com/images/P/0195153448.0...</td>\n",
       "      <td>http://images.amazon.com/images/P/0195153448.0...</td>\n",
       "      <td>http://images.amazon.com/images/P/0195153448.0...</td>\n",
       "    </tr>\n",
       "    <tr>\n",
       "      <th>1</th>\n",
       "      <td>0002005018</td>\n",
       "      <td>Clara Callan</td>\n",
       "      <td>Richard Bruce Wright</td>\n",
       "      <td>2001</td>\n",
       "      <td>HarperFlamingo Canada</td>\n",
       "      <td>http://images.amazon.com/images/P/0002005018.0...</td>\n",
       "      <td>http://images.amazon.com/images/P/0002005018.0...</td>\n",
       "      <td>http://images.amazon.com/images/P/0002005018.0...</td>\n",
       "    </tr>\n",
       "    <tr>\n",
       "      <th>2</th>\n",
       "      <td>0060973129</td>\n",
       "      <td>Decision in Normandy</td>\n",
       "      <td>Carlo D'Este</td>\n",
       "      <td>1991</td>\n",
       "      <td>HarperPerennial</td>\n",
       "      <td>http://images.amazon.com/images/P/0060973129.0...</td>\n",
       "      <td>http://images.amazon.com/images/P/0060973129.0...</td>\n",
       "      <td>http://images.amazon.com/images/P/0060973129.0...</td>\n",
       "    </tr>\n",
       "  </tbody>\n",
       "</table>\n",
       "</div>"
      ],
      "text/plain": [
       "         ISBN            Book-Title           Book-Author Year-Of-Publication  \\\n",
       "0  0195153448   Classical Mythology    Mark P. O. Morford                2002   \n",
       "1  0002005018          Clara Callan  Richard Bruce Wright                2001   \n",
       "2  0060973129  Decision in Normandy          Carlo D'Este                1991   \n",
       "\n",
       "                 Publisher                                        Image-URL-S  \\\n",
       "0  Oxford University Press  http://images.amazon.com/images/P/0195153448.0...   \n",
       "1    HarperFlamingo Canada  http://images.amazon.com/images/P/0002005018.0...   \n",
       "2          HarperPerennial  http://images.amazon.com/images/P/0060973129.0...   \n",
       "\n",
       "                                         Image-URL-M  \\\n",
       "0  http://images.amazon.com/images/P/0195153448.0...   \n",
       "1  http://images.amazon.com/images/P/0002005018.0...   \n",
       "2  http://images.amazon.com/images/P/0060973129.0...   \n",
       "\n",
       "                                         Image-URL-L  \n",
       "0  http://images.amazon.com/images/P/0195153448.0...  \n",
       "1  http://images.amazon.com/images/P/0002005018.0...  \n",
       "2  http://images.amazon.com/images/P/0060973129.0...  "
      ]
     },
     "execution_count": 5,
     "metadata": {},
     "output_type": "execute_result"
    }
   ],
   "source": [
    "books.head(3)"
   ]
  },
  {
   "cell_type": "markdown",
   "metadata": {},
   "source": [
    "* Brief information about different columns of the books dataframe:"
   ]
  },
  {
   "cell_type": "code",
   "execution_count": 6,
   "metadata": {},
   "outputs": [
    {
     "name": "stdout",
     "output_type": "stream",
     "text": [
      "<class 'pandas.core.frame.DataFrame'>\n",
      "RangeIndex: 271361 entries, 0 to 271360\n",
      "Data columns (total 8 columns):\n",
      " #   Column               Non-Null Count   Dtype \n",
      "---  ------               --------------   ----- \n",
      " 0   ISBN                 271361 non-null  object\n",
      " 1   Book-Title           271361 non-null  object\n",
      " 2   Book-Author          271360 non-null  object\n",
      " 3   Year-Of-Publication  271361 non-null  object\n",
      " 4   Publisher            271359 non-null  object\n",
      " 5   Image-URL-S          271361 non-null  object\n",
      " 6   Image-URL-M          271361 non-null  object\n",
      " 7   Image-URL-L          271358 non-null  object\n",
      "dtypes: object(8)\n",
      "memory usage: 16.6+ MB\n"
     ]
    }
   ],
   "source": [
    "books.info()"
   ]
  },
  {
   "cell_type": "markdown",
   "metadata": {},
   "source": [
    "The same is true for this dataset also i.e., `ISBN` column is represented as an object instead of an integer."
   ]
  },
  {
   "cell_type": "markdown",
   "metadata": {},
   "source": [
    "### Users information\n",
    "* Top 5 header lines of the users information"
   ]
  },
  {
   "cell_type": "code",
   "execution_count": 7,
   "metadata": {},
   "outputs": [
    {
     "data": {
      "text/html": [
       "<div>\n",
       "<style scoped>\n",
       "    .dataframe tbody tr th:only-of-type {\n",
       "        vertical-align: middle;\n",
       "    }\n",
       "\n",
       "    .dataframe tbody tr th {\n",
       "        vertical-align: top;\n",
       "    }\n",
       "\n",
       "    .dataframe thead th {\n",
       "        text-align: right;\n",
       "    }\n",
       "</style>\n",
       "<table border=\"1\" class=\"dataframe\">\n",
       "  <thead>\n",
       "    <tr style=\"text-align: right;\">\n",
       "      <th></th>\n",
       "      <th>User-ID</th>\n",
       "      <th>Location</th>\n",
       "      <th>Age</th>\n",
       "    </tr>\n",
       "  </thead>\n",
       "  <tbody>\n",
       "    <tr>\n",
       "      <th>0</th>\n",
       "      <td>1</td>\n",
       "      <td>nyc, new york, usa</td>\n",
       "      <td>NaN</td>\n",
       "    </tr>\n",
       "    <tr>\n",
       "      <th>1</th>\n",
       "      <td>2</td>\n",
       "      <td>stockton, california, usa</td>\n",
       "      <td>18.0</td>\n",
       "    </tr>\n",
       "    <tr>\n",
       "      <th>2</th>\n",
       "      <td>3</td>\n",
       "      <td>moscow, yukon territory, russia</td>\n",
       "      <td>NaN</td>\n",
       "    </tr>\n",
       "    <tr>\n",
       "      <th>3</th>\n",
       "      <td>4</td>\n",
       "      <td>porto, v.n.gaia, portugal</td>\n",
       "      <td>17.0</td>\n",
       "    </tr>\n",
       "    <tr>\n",
       "      <th>4</th>\n",
       "      <td>5</td>\n",
       "      <td>farnborough, hants, united kingdom</td>\n",
       "      <td>NaN</td>\n",
       "    </tr>\n",
       "  </tbody>\n",
       "</table>\n",
       "</div>"
      ],
      "text/plain": [
       "   User-ID                            Location   Age\n",
       "0        1                  nyc, new york, usa   NaN\n",
       "1        2           stockton, california, usa  18.0\n",
       "2        3     moscow, yukon territory, russia   NaN\n",
       "3        4           porto, v.n.gaia, portugal  17.0\n",
       "4        5  farnborough, hants, united kingdom   NaN"
      ]
     },
     "execution_count": 7,
     "metadata": {},
     "output_type": "execute_result"
    }
   ],
   "source": [
    "users.head()"
   ]
  },
  {
   "cell_type": "markdown",
   "metadata": {},
   "source": [
    "* Brief information about different columns of the users dataframe:"
   ]
  },
  {
   "cell_type": "code",
   "execution_count": 8,
   "metadata": {},
   "outputs": [
    {
     "name": "stdout",
     "output_type": "stream",
     "text": [
      "<class 'pandas.core.frame.DataFrame'>\n",
      "RangeIndex: 278858 entries, 0 to 278857\n",
      "Data columns (total 3 columns):\n",
      " #   Column    Non-Null Count   Dtype  \n",
      "---  ------    --------------   -----  \n",
      " 0   User-ID   278858 non-null  int64  \n",
      " 1   Location  278858 non-null  object \n",
      " 2   Age       168096 non-null  float64\n",
      "dtypes: float64(1), int64(1), object(1)\n",
      "memory usage: 6.4+ MB\n"
     ]
    }
   ],
   "source": [
    "users.info()"
   ]
  },
  {
   "cell_type": "markdown",
   "metadata": {},
   "source": [
    "### OBSERVATIONS:\n",
    "- The \"books\" dataframe contains some unnecessary columns which are not needed for this analysis e.g. `\"Image-URL-S\"`, `\"Image-URL-M\"`, `\"Image-URL-L\"` etc.\n",
    "- Some wrong columns are assigned to the `\"Year-Of-Publication\"` in the `books` dataframe which makes it to be loaded as an `object` instead of an `integer`.\n",
    "- `ISBN` column (i.e., the book-id) has been misrepresented due to some non numerical characters."
   ]
  },
  {
   "cell_type": "markdown",
   "metadata": {},
   "source": [
    "## Data Cleaning\n",
    "In this section, I will remove all the unnecessary columns and the invalid rows from the dataframe. Some user-id and book-id have unknown character which make them to be represented as an object. So, I will be using the LabelEncoder() function of the sklearn library to encode each and every id in the dataset to a numerical equivalent. But before that, I will remove all unknown ids in both User-ID and ISBN in the ratings dataframe."
   ]
  },
  {
   "cell_type": "markdown",
   "metadata": {},
   "source": [
    "* Drop all redundant columns from the books dataframe:"
   ]
  },
  {
   "cell_type": "code",
   "execution_count": 9,
   "metadata": {},
   "outputs": [],
   "source": [
    "# Drop unnecessary columns\n",
    "books.drop(columns=['Image-URL-S', 'Image-URL-M', 'Image-URL-L'], inplace=True)"
   ]
  },
  {
   "cell_type": "markdown",
   "metadata": {},
   "source": [
    "* Remove ids with lesser counts in from the dataframe:"
   ]
  },
  {
   "cell_type": "code",
   "execution_count": 10,
   "metadata": {},
   "outputs": [],
   "source": [
    "# Remove invalid book IDs (less than 5 ratings)\n",
    "rbook_counts = ratings['ISBN'].value_counts()\n",
    "ratings = ratings[ratings['ISBN'].isin(rbook_counts[rbook_counts >= 5].index)]\n",
    "\n",
    "# Remove invalid user IDs (less than 10 ratings)\n",
    "ruser_counts = ratings['User-ID'].value_counts()\n",
    "ratings = ratings[ratings['User-ID'].isin(ruser_counts[ruser_counts >= 10].index)]"
   ]
  },
  {
   "cell_type": "markdown",
   "metadata": {},
   "source": [
    "* Remove rows with id that are not in the books and users dataframe:"
   ]
  },
  {
   "cell_type": "code",
   "execution_count": 11,
   "metadata": {},
   "outputs": [],
   "source": [
    "ratings = ratings[ratings['ISBN'].isin(books['ISBN'].values)]\n",
    "ratings = ratings[ratings['User-ID'].isin(users['User-ID'].values)]"
   ]
  },
  {
   "cell_type": "markdown",
   "metadata": {},
   "source": [
    "* Transform all IDs to integer equivalent"
   ]
  },
  {
   "cell_type": "code",
   "execution_count": 12,
   "metadata": {},
   "outputs": [],
   "source": [
    "# Transform both the user and the book IDs\n",
    "isbn_transformer = LabelEncoder().fit(books['ISBN'])\n",
    "books['ISBN'] = isbn_transformer.transform(books['ISBN'])\n",
    "ratings['ISBN'] = isbn_transformer.transform(ratings['ISBN'])\n",
    "\n",
    "userid_transformer = LabelEncoder().fit(users['User-ID'])\n",
    "users['User-ID'] = userid_transformer.transform(users['User-ID'])\n",
    "ratings['User-ID'] = userid_transformer.transform(ratings['User-ID'])"
   ]
  },
  {
   "cell_type": "markdown",
   "metadata": {},
   "source": [
    "## Brief overview of dataframes after data cleaning"
   ]
  },
  {
   "cell_type": "markdown",
   "metadata": {},
   "source": [
    "#### Ratings"
   ]
  },
  {
   "cell_type": "code",
   "execution_count": 13,
   "metadata": {},
   "outputs": [
    {
     "data": {
      "text/html": [
       "<div>\n",
       "<style scoped>\n",
       "    .dataframe tbody tr th:only-of-type {\n",
       "        vertical-align: middle;\n",
       "    }\n",
       "\n",
       "    .dataframe tbody tr th {\n",
       "        vertical-align: top;\n",
       "    }\n",
       "\n",
       "    .dataframe thead th {\n",
       "        text-align: right;\n",
       "    }\n",
       "</style>\n",
       "<table border=\"1\" class=\"dataframe\">\n",
       "  <thead>\n",
       "    <tr style=\"text-align: right;\">\n",
       "      <th></th>\n",
       "      <th>User-ID</th>\n",
       "      <th>ISBN</th>\n",
       "      <th>Book-Rating</th>\n",
       "    </tr>\n",
       "  </thead>\n",
       "  <tbody>\n",
       "    <tr>\n",
       "      <th>133</th>\n",
       "      <td>276821</td>\n",
       "      <td>3504</td>\n",
       "      <td>10</td>\n",
       "    </tr>\n",
       "    <tr>\n",
       "      <th>134</th>\n",
       "      <td>276821</td>\n",
       "      <td>21203</td>\n",
       "      <td>9</td>\n",
       "    </tr>\n",
       "    <tr>\n",
       "      <th>137</th>\n",
       "      <td>276821</td>\n",
       "      <td>62977</td>\n",
       "      <td>9</td>\n",
       "    </tr>\n",
       "    <tr>\n",
       "      <th>138</th>\n",
       "      <td>276821</td>\n",
       "      <td>65338</td>\n",
       "      <td>10</td>\n",
       "    </tr>\n",
       "    <tr>\n",
       "      <th>139</th>\n",
       "      <td>276821</td>\n",
       "      <td>83980</td>\n",
       "      <td>0</td>\n",
       "    </tr>\n",
       "  </tbody>\n",
       "</table>\n",
       "</div>"
      ],
      "text/plain": [
       "     User-ID   ISBN  Book-Rating\n",
       "133   276821   3504           10\n",
       "134   276821  21203            9\n",
       "137   276821  62977            9\n",
       "138   276821  65338           10\n",
       "139   276821  83980            0"
      ]
     },
     "execution_count": 13,
     "metadata": {},
     "output_type": "execute_result"
    }
   ],
   "source": [
    "ratings.head()"
   ]
  },
  {
   "cell_type": "code",
   "execution_count": 14,
   "metadata": {},
   "outputs": [
    {
     "name": "stdout",
     "output_type": "stream",
     "text": [
      "<class 'pandas.core.frame.DataFrame'>\n",
      "Int64Index: 540760 entries, 133 to 1149772\n",
      "Data columns (total 3 columns):\n",
      " #   Column       Non-Null Count   Dtype\n",
      "---  ------       --------------   -----\n",
      " 0   User-ID      540760 non-null  int64\n",
      " 1   ISBN         540760 non-null  int32\n",
      " 2   Book-Rating  540760 non-null  int64\n",
      "dtypes: int32(1), int64(2)\n",
      "memory usage: 14.4 MB\n"
     ]
    }
   ],
   "source": [
    "ratings.info()"
   ]
  },
  {
   "cell_type": "markdown",
   "metadata": {},
   "source": [
    "#### Books"
   ]
  },
  {
   "cell_type": "code",
   "execution_count": 15,
   "metadata": {},
   "outputs": [
    {
     "data": {
      "text/html": [
       "<div>\n",
       "<style scoped>\n",
       "    .dataframe tbody tr th:only-of-type {\n",
       "        vertical-align: middle;\n",
       "    }\n",
       "\n",
       "    .dataframe tbody tr th {\n",
       "        vertical-align: top;\n",
       "    }\n",
       "\n",
       "    .dataframe thead th {\n",
       "        text-align: right;\n",
       "    }\n",
       "</style>\n",
       "<table border=\"1\" class=\"dataframe\">\n",
       "  <thead>\n",
       "    <tr style=\"text-align: right;\">\n",
       "      <th></th>\n",
       "      <th>ISBN</th>\n",
       "      <th>Book-Title</th>\n",
       "      <th>Book-Author</th>\n",
       "      <th>Year-Of-Publication</th>\n",
       "      <th>Publisher</th>\n",
       "    </tr>\n",
       "  </thead>\n",
       "  <tbody>\n",
       "    <tr>\n",
       "      <th>0</th>\n",
       "      <td>25028</td>\n",
       "      <td>Classical Mythology</td>\n",
       "      <td>Mark P. O. Morford</td>\n",
       "      <td>2002</td>\n",
       "      <td>Oxford University Press</td>\n",
       "    </tr>\n",
       "    <tr>\n",
       "      <th>1</th>\n",
       "      <td>73</td>\n",
       "      <td>Clara Callan</td>\n",
       "      <td>Richard Bruce Wright</td>\n",
       "      <td>2001</td>\n",
       "      <td>HarperFlamingo Canada</td>\n",
       "    </tr>\n",
       "    <tr>\n",
       "      <th>2</th>\n",
       "      <td>8211</td>\n",
       "      <td>Decision in Normandy</td>\n",
       "      <td>Carlo D'Este</td>\n",
       "      <td>1991</td>\n",
       "      <td>HarperPerennial</td>\n",
       "    </tr>\n",
       "    <tr>\n",
       "      <th>3</th>\n",
       "      <td>60198</td>\n",
       "      <td>Flu: The Story of the Great Influenza Pandemic...</td>\n",
       "      <td>Gina Bari Kolata</td>\n",
       "      <td>1999</td>\n",
       "      <td>Farrar Straus Giroux</td>\n",
       "    </tr>\n",
       "    <tr>\n",
       "      <th>4</th>\n",
       "      <td>71711</td>\n",
       "      <td>The Mummies of Urumchi</td>\n",
       "      <td>E. J. W. Barber</td>\n",
       "      <td>1999</td>\n",
       "      <td>W. W. Norton &amp;amp; Company</td>\n",
       "    </tr>\n",
       "  </tbody>\n",
       "</table>\n",
       "</div>"
      ],
      "text/plain": [
       "    ISBN                                         Book-Title  \\\n",
       "0  25028                                Classical Mythology   \n",
       "1     73                                       Clara Callan   \n",
       "2   8211                               Decision in Normandy   \n",
       "3  60198  Flu: The Story of the Great Influenza Pandemic...   \n",
       "4  71711                             The Mummies of Urumchi   \n",
       "\n",
       "            Book-Author Year-Of-Publication                   Publisher  \n",
       "0    Mark P. O. Morford                2002     Oxford University Press  \n",
       "1  Richard Bruce Wright                2001       HarperFlamingo Canada  \n",
       "2          Carlo D'Este                1991             HarperPerennial  \n",
       "3      Gina Bari Kolata                1999        Farrar Straus Giroux  \n",
       "4       E. J. W. Barber                1999  W. W. Norton &amp; Company  "
      ]
     },
     "execution_count": 15,
     "metadata": {},
     "output_type": "execute_result"
    }
   ],
   "source": [
    "books.head()"
   ]
  },
  {
   "cell_type": "code",
   "execution_count": 16,
   "metadata": {},
   "outputs": [
    {
     "name": "stdout",
     "output_type": "stream",
     "text": [
      "<class 'pandas.core.frame.DataFrame'>\n",
      "RangeIndex: 271361 entries, 0 to 271360\n",
      "Data columns (total 5 columns):\n",
      " #   Column               Non-Null Count   Dtype \n",
      "---  ------               --------------   ----- \n",
      " 0   ISBN                 271361 non-null  int32 \n",
      " 1   Book-Title           271361 non-null  object\n",
      " 2   Book-Author          271360 non-null  object\n",
      " 3   Year-Of-Publication  271361 non-null  object\n",
      " 4   Publisher            271359 non-null  object\n",
      "dtypes: int32(1), object(4)\n",
      "memory usage: 9.3+ MB\n"
     ]
    }
   ],
   "source": [
    "books.info()"
   ]
  },
  {
   "cell_type": "markdown",
   "metadata": {},
   "source": [
    "#### Users"
   ]
  },
  {
   "cell_type": "code",
   "execution_count": 17,
   "metadata": {},
   "outputs": [
    {
     "data": {
      "text/html": [
       "<div>\n",
       "<style scoped>\n",
       "    .dataframe tbody tr th:only-of-type {\n",
       "        vertical-align: middle;\n",
       "    }\n",
       "\n",
       "    .dataframe tbody tr th {\n",
       "        vertical-align: top;\n",
       "    }\n",
       "\n",
       "    .dataframe thead th {\n",
       "        text-align: right;\n",
       "    }\n",
       "</style>\n",
       "<table border=\"1\" class=\"dataframe\">\n",
       "  <thead>\n",
       "    <tr style=\"text-align: right;\">\n",
       "      <th></th>\n",
       "      <th>User-ID</th>\n",
       "      <th>Location</th>\n",
       "      <th>Age</th>\n",
       "    </tr>\n",
       "  </thead>\n",
       "  <tbody>\n",
       "    <tr>\n",
       "      <th>0</th>\n",
       "      <td>0</td>\n",
       "      <td>nyc, new york, usa</td>\n",
       "      <td>NaN</td>\n",
       "    </tr>\n",
       "    <tr>\n",
       "      <th>1</th>\n",
       "      <td>1</td>\n",
       "      <td>stockton, california, usa</td>\n",
       "      <td>18.0</td>\n",
       "    </tr>\n",
       "    <tr>\n",
       "      <th>2</th>\n",
       "      <td>2</td>\n",
       "      <td>moscow, yukon territory, russia</td>\n",
       "      <td>NaN</td>\n",
       "    </tr>\n",
       "    <tr>\n",
       "      <th>3</th>\n",
       "      <td>3</td>\n",
       "      <td>porto, v.n.gaia, portugal</td>\n",
       "      <td>17.0</td>\n",
       "    </tr>\n",
       "    <tr>\n",
       "      <th>4</th>\n",
       "      <td>4</td>\n",
       "      <td>farnborough, hants, united kingdom</td>\n",
       "      <td>NaN</td>\n",
       "    </tr>\n",
       "  </tbody>\n",
       "</table>\n",
       "</div>"
      ],
      "text/plain": [
       "   User-ID                            Location   Age\n",
       "0        0                  nyc, new york, usa   NaN\n",
       "1        1           stockton, california, usa  18.0\n",
       "2        2     moscow, yukon territory, russia   NaN\n",
       "3        3           porto, v.n.gaia, portugal  17.0\n",
       "4        4  farnborough, hants, united kingdom   NaN"
      ]
     },
     "execution_count": 17,
     "metadata": {},
     "output_type": "execute_result"
    }
   ],
   "source": [
    "users.head()"
   ]
  },
  {
   "cell_type": "code",
   "execution_count": 18,
   "metadata": {},
   "outputs": [
    {
     "name": "stdout",
     "output_type": "stream",
     "text": [
      "<class 'pandas.core.frame.DataFrame'>\n",
      "RangeIndex: 278858 entries, 0 to 278857\n",
      "Data columns (total 3 columns):\n",
      " #   Column    Non-Null Count   Dtype  \n",
      "---  ------    --------------   -----  \n",
      " 0   User-ID   278858 non-null  int64  \n",
      " 1   Location  278858 non-null  object \n",
      " 2   Age       168096 non-null  float64\n",
      "dtypes: float64(1), int64(1), object(1)\n",
      "memory usage: 6.4+ MB\n"
     ]
    }
   ],
   "source": [
    "users.info()"
   ]
  },
  {
   "attachments": {},
   "cell_type": "markdown",
   "metadata": {},
   "source": [
    "## Building Recommendation System\n",
    "In this section, I will be building a recommendation system. But before then, I will create a traininig and testing set to test the performance of my model. The library that can help in the splitting of the dataset into training and testing set is `train_test_split()` function of sklearn library."
   ]
  },
  {
   "cell_type": "code",
   "execution_count": 19,
   "metadata": {},
   "outputs": [],
   "source": [
    "from model import RecommendationSystem"
   ]
  },
  {
   "cell_type": "code",
   "execution_count": 20,
   "metadata": {},
   "outputs": [],
   "source": [
    "rmodel = RecommendationSystem(ratings=ratings,\n",
    "                              books=books,\n",
    "                              users=users)"
   ]
  },
  {
   "cell_type": "code",
   "execution_count": 21,
   "metadata": {},
   "outputs": [
    {
     "name": "stdout",
     "output_type": "stream",
     "text": [
      "Epoch 1/10\n",
      "14871/14871 [==============================] - 1351s 91ms/step - loss: 20.2742 - val_loss: 19.8900\n",
      "Epoch 2/10\n",
      "14871/14871 [==============================] - 1277s 86ms/step - loss: 17.9885 - val_loss: 17.3249\n",
      "Epoch 3/10\n",
      "14871/14871 [==============================] - 1355s 91ms/step - loss: 15.2906 - val_loss: 15.7961\n",
      "Epoch 4/10\n",
      "14871/14871 [==============================] - 1553s 104ms/step - loss: 13.4494 - val_loss: 14.9559\n",
      "Epoch 5/10\n",
      "14871/14871 [==============================] - 1571s 106ms/step - loss: 12.0989 - val_loss: 14.4759\n",
      "Epoch 6/10\n",
      "14871/14871 [==============================] - 1543s 104ms/step - loss: 11.0282 - val_loss: 14.2024\n",
      "Epoch 7/10\n",
      "14871/14871 [==============================] - 17016s 1s/step - loss: 10.1304 - val_loss: 14.0738\n",
      "Epoch 8/10\n",
      "14871/14871 [==============================] - 1391s 94ms/step - loss: 9.3650 - val_loss: 14.0517\n",
      "Epoch 9/10\n",
      "14871/14871 [==============================] - 1413s 95ms/step - loss: 8.6988 - val_loss: 14.0895\n",
      "Epoch 10/10\n",
      "14871/14871 [==============================] - 1436s 97ms/step - loss: 8.1174 - val_loss: 14.1807\n"
     ]
    }
   ],
   "source": [
    "rmodel.build_fit_model()"
   ]
  },
  {
   "attachments": {},
   "cell_type": "markdown",
   "metadata": {},
   "source": [
    "#### Recommend books to a user [`276821`]\n",
    "> * These are the books the interested user (i.e., `276821`) has read:"
   ]
  },
  {
   "cell_type": "code",
   "execution_count": 22,
   "metadata": {},
   "outputs": [
    {
     "data": {
      "text/html": [
       "<div>\n",
       "<style scoped>\n",
       "    .dataframe tbody tr th:only-of-type {\n",
       "        vertical-align: middle;\n",
       "    }\n",
       "\n",
       "    .dataframe tbody tr th {\n",
       "        vertical-align: top;\n",
       "    }\n",
       "\n",
       "    .dataframe thead th {\n",
       "        text-align: right;\n",
       "    }\n",
       "</style>\n",
       "<table border=\"1\" class=\"dataframe\">\n",
       "  <thead>\n",
       "    <tr style=\"text-align: right;\">\n",
       "      <th></th>\n",
       "      <th>ISBN</th>\n",
       "      <th>Book-Title</th>\n",
       "      <th>Book-Author</th>\n",
       "      <th>Year-Of-Publication</th>\n",
       "      <th>Publisher</th>\n",
       "    </tr>\n",
       "  </thead>\n",
       "  <tbody>\n",
       "    <tr>\n",
       "      <th>1027</th>\n",
       "      <td>62977</td>\n",
       "      <td>Hoot (Newbery Honor Book)</td>\n",
       "      <td>CARL HIAASEN</td>\n",
       "      <td>2002</td>\n",
       "      <td>Knopf Books for Young Readers</td>\n",
       "    </tr>\n",
       "    <tr>\n",
       "      <th>15602</th>\n",
       "      <td>169901</td>\n",
       "      <td>Artemis Fowl (Artemis Fowl, Book 1)</td>\n",
       "      <td>Eoin Colfer</td>\n",
       "      <td>2002</td>\n",
       "      <td>Miramax Kids</td>\n",
       "    </tr>\n",
       "    <tr>\n",
       "      <th>17084</th>\n",
       "      <td>3504</td>\n",
       "      <td>The Boy Next Door</td>\n",
       "      <td>Meggin Cabot</td>\n",
       "      <td>2002</td>\n",
       "      <td>Avon Trade</td>\n",
       "    </tr>\n",
       "    <tr>\n",
       "      <th>27516</th>\n",
       "      <td>65338</td>\n",
       "      <td>A Kid's Guide to How to Save the Planet (Camel...</td>\n",
       "      <td>Billy Goodman</td>\n",
       "      <td>1990</td>\n",
       "      <td>Harpercollins Juvenile Books</td>\n",
       "    </tr>\n",
       "    <tr>\n",
       "      <th>28615</th>\n",
       "      <td>83980</td>\n",
       "      <td>The Last Book in the Universe</td>\n",
       "      <td>Rodman Philbrick</td>\n",
       "      <td>2002</td>\n",
       "      <td>Scholastic Signature</td>\n",
       "    </tr>\n",
       "    <tr>\n",
       "      <th>34236</th>\n",
       "      <td>21203</td>\n",
       "      <td>Skin and Other Stories (Now in Speak!)</td>\n",
       "      <td>Roald Dahl</td>\n",
       "      <td>2002</td>\n",
       "      <td>Puffin Books</td>\n",
       "    </tr>\n",
       "    <tr>\n",
       "      <th>80669</th>\n",
       "      <td>151553</td>\n",
       "      <td>A String in the Harp</td>\n",
       "      <td>Nancy Bond</td>\n",
       "      <td>1996</td>\n",
       "      <td>Aladdin</td>\n",
       "    </tr>\n",
       "    <tr>\n",
       "      <th>88354</th>\n",
       "      <td>169814</td>\n",
       "      <td>The Sandy Bottom Orchestra</td>\n",
       "      <td>Jenny Nilson</td>\n",
       "      <td>1998</td>\n",
       "      <td>Hyperion Books for Children</td>\n",
       "    </tr>\n",
       "    <tr>\n",
       "      <th>115319</th>\n",
       "      <td>84836</td>\n",
       "      <td>The Contest</td>\n",
       "      <td>Gordon Korman</td>\n",
       "      <td>2002</td>\n",
       "      <td>Scholastic</td>\n",
       "    </tr>\n",
       "  </tbody>\n",
       "</table>\n",
       "</div>"
      ],
      "text/plain": [
       "          ISBN                                         Book-Title  \\\n",
       "1027     62977                          Hoot (Newbery Honor Book)   \n",
       "15602   169901                Artemis Fowl (Artemis Fowl, Book 1)   \n",
       "17084     3504                                  The Boy Next Door   \n",
       "27516    65338  A Kid's Guide to How to Save the Planet (Camel...   \n",
       "28615    83980                      The Last Book in the Universe   \n",
       "34236    21203             Skin and Other Stories (Now in Speak!)   \n",
       "80669   151553                               A String in the Harp   \n",
       "88354   169814                         The Sandy Bottom Orchestra   \n",
       "115319   84836                                        The Contest   \n",
       "\n",
       "             Book-Author Year-Of-Publication                      Publisher  \n",
       "1027        CARL HIAASEN                2002  Knopf Books for Young Readers  \n",
       "15602        Eoin Colfer                2002                   Miramax Kids  \n",
       "17084       Meggin Cabot                2002                     Avon Trade  \n",
       "27516      Billy Goodman                1990   Harpercollins Juvenile Books  \n",
       "28615   Rodman Philbrick                2002           Scholastic Signature  \n",
       "34236         Roald Dahl                2002                   Puffin Books  \n",
       "80669         Nancy Bond                1996                        Aladdin  \n",
       "88354       Jenny Nilson                1998    Hyperion Books for Children  \n",
       "115319     Gordon Korman                2002                     Scholastic  "
      ]
     },
     "execution_count": 22,
     "metadata": {},
     "output_type": "execute_result"
    }
   ],
   "source": [
    "books.loc[books['ISBN'].isin(ratings.loc[ratings['User-ID']==276821, \"ISBN\"])]"
   ]
  },
  {
   "cell_type": "markdown",
   "metadata": {},
   "source": [
    "* These are the books recommended to the user:"
   ]
  },
  {
   "cell_type": "code",
   "execution_count": 23,
   "metadata": {},
   "outputs": [
    {
     "name": "stdout",
     "output_type": "stream",
     "text": [
      "Recommended book 1: 'Harry Potter and the Chamber of Secrets Postcard Book' <====> Score: 9.082374572753906\n",
      "Recommended book 2: 'Almost blue (Stile libero)' <====> Score: 9.041363716125488\n",
      "Recommended book 3: 'The Power of Myth (Illustrated Edition)' <====> Score: 8.496403694152832\n",
      "Recommended book 4: 'The Shrinking of Treehorn' <====> Score: 8.338232040405273\n",
      "Recommended book 5: \"Uncle Shelby's ABZ Book: A Primer for Adults Only\" <====> Score: 8.15692138671875\n",
      "Recommended book 6: 'Life, the Universe and Everything' <====> Score: 8.096442222595215\n",
      "Recommended book 7: 'The Blue Day Book: A Lesson in Cheering Yourself Up' <====> Score: 7.8887739181518555\n",
      "Recommended book 8: 'The Little Prince' <====> Score: 7.886970043182373\n",
      "Recommended book 9: 'As for Me and My House (New Canadian Library)' <====> Score: 7.799696922302246\n",
      "Recommended book 10: \"What's So Amazing About Grace?\" <====> Score: 7.778348445892334\n"
     ]
    }
   ],
   "source": [
    "rmodel.recommend_books(276821)"
   ]
  },
  {
   "cell_type": "markdown",
   "metadata": {},
   "source": [
    "More details about the different recommended books:"
   ]
  },
  {
   "cell_type": "code",
   "execution_count": 24,
   "metadata": {},
   "outputs": [
    {
     "data": {
      "text/html": [
       "<div>\n",
       "<style scoped>\n",
       "    .dataframe tbody tr th:only-of-type {\n",
       "        vertical-align: middle;\n",
       "    }\n",
       "\n",
       "    .dataframe tbody tr th {\n",
       "        vertical-align: top;\n",
       "    }\n",
       "\n",
       "    .dataframe thead th {\n",
       "        text-align: right;\n",
       "    }\n",
       "</style>\n",
       "<table border=\"1\" class=\"dataframe\">\n",
       "  <thead>\n",
       "    <tr style=\"text-align: right;\">\n",
       "      <th></th>\n",
       "      <th>ISBN</th>\n",
       "      <th>Book-Title</th>\n",
       "      <th>Book-Author</th>\n",
       "      <th>Year-Of-Publication</th>\n",
       "      <th>Publisher</th>\n",
       "    </tr>\n",
       "  </thead>\n",
       "  <tbody>\n",
       "    <tr>\n",
       "      <th>1414</th>\n",
       "      <td>68768</td>\n",
       "      <td>The Power of Myth (Illustrated Edition)</td>\n",
       "      <td>Joseph Campbell</td>\n",
       "      <td>1988</td>\n",
       "      <td>Doubleday Books</td>\n",
       "    </tr>\n",
       "    <tr>\n",
       "      <th>3209</th>\n",
       "      <td>269211</td>\n",
       "      <td>Almost blue (Stile libero)</td>\n",
       "      <td>Carlo Lucarelli</td>\n",
       "      <td>1997</td>\n",
       "      <td>Einaudi</td>\n",
       "    </tr>\n",
       "    <tr>\n",
       "      <th>6815</th>\n",
       "      <td>23163</td>\n",
       "      <td>The Little Prince</td>\n",
       "      <td>Antoine de Saint-Exupéry</td>\n",
       "      <td>2000</td>\n",
       "      <td>Harvest Books</td>\n",
       "    </tr>\n",
       "    <tr>\n",
       "      <th>12640</th>\n",
       "      <td>136932</td>\n",
       "      <td>Life, the Universe and Everything</td>\n",
       "      <td>Douglas Adams</td>\n",
       "      <td>1983</td>\n",
       "      <td>Pocket</td>\n",
       "    </tr>\n",
       "    <tr>\n",
       "      <th>65616</th>\n",
       "      <td>30157</td>\n",
       "      <td>What's So Amazing About Grace?</td>\n",
       "      <td>Philip Yancey</td>\n",
       "      <td>1997</td>\n",
       "      <td>Zondervan Publishing Company</td>\n",
       "    </tr>\n",
       "    <tr>\n",
       "      <th>78868</th>\n",
       "      <td>188391</td>\n",
       "      <td>The Shrinking of Treehorn</td>\n",
       "      <td>Florence Parry Heide</td>\n",
       "      <td>1971</td>\n",
       "      <td>Holiday House</td>\n",
       "    </tr>\n",
       "    <tr>\n",
       "      <th>79371</th>\n",
       "      <td>84909</td>\n",
       "      <td>Harry Potter and the Chamber of Secrets Postca...</td>\n",
       "      <td>J. K. Rowling</td>\n",
       "      <td>2002</td>\n",
       "      <td>Scholastic</td>\n",
       "    </tr>\n",
       "    <tr>\n",
       "      <th>79432</th>\n",
       "      <td>13507</td>\n",
       "      <td>The Blue Day Book: A Lesson in Cheering Yourse...</td>\n",
       "      <td>Bradley Trevor Greive</td>\n",
       "      <td>0</td>\n",
       "      <td>Random House Australia</td>\n",
       "    </tr>\n",
       "    <tr>\n",
       "      <th>84842</th>\n",
       "      <td>166916</td>\n",
       "      <td>As for Me and My House (New Canadian Library)</td>\n",
       "      <td>Sinclair Ross</td>\n",
       "      <td>1995</td>\n",
       "      <td>New Canadian Library</td>\n",
       "    </tr>\n",
       "    <tr>\n",
       "      <th>144510</th>\n",
       "      <td>134182</td>\n",
       "      <td>Uncle Shelby's ABZ Book: A Primer for Adults Only</td>\n",
       "      <td>Shel Silverstein</td>\n",
       "      <td>1985</td>\n",
       "      <td>Fireside</td>\n",
       "    </tr>\n",
       "  </tbody>\n",
       "</table>\n",
       "</div>"
      ],
      "text/plain": [
       "          ISBN                                         Book-Title  \\\n",
       "1414     68768            The Power of Myth (Illustrated Edition)   \n",
       "3209    269211                         Almost blue (Stile libero)   \n",
       "6815     23163                                  The Little Prince   \n",
       "12640   136932                  Life, the Universe and Everything   \n",
       "65616    30157                     What's So Amazing About Grace?   \n",
       "78868   188391                          The Shrinking of Treehorn   \n",
       "79371    84909  Harry Potter and the Chamber of Secrets Postca...   \n",
       "79432    13507  The Blue Day Book: A Lesson in Cheering Yourse...   \n",
       "84842   166916      As for Me and My House (New Canadian Library)   \n",
       "144510  134182  Uncle Shelby's ABZ Book: A Primer for Adults Only   \n",
       "\n",
       "                     Book-Author Year-Of-Publication  \\\n",
       "1414             Joseph Campbell                1988   \n",
       "3209             Carlo Lucarelli                1997   \n",
       "6815    Antoine de Saint-Exupéry                2000   \n",
       "12640              Douglas Adams                1983   \n",
       "65616              Philip Yancey                1997   \n",
       "78868       Florence Parry Heide                1971   \n",
       "79371              J. K. Rowling                2002   \n",
       "79432      Bradley Trevor Greive                   0   \n",
       "84842              Sinclair Ross                1995   \n",
       "144510          Shel Silverstein                1985   \n",
       "\n",
       "                           Publisher  \n",
       "1414                 Doubleday Books  \n",
       "3209                         Einaudi  \n",
       "6815                   Harvest Books  \n",
       "12640                         Pocket  \n",
       "65616   Zondervan Publishing Company  \n",
       "78868                  Holiday House  \n",
       "79371                     Scholastic  \n",
       "79432         Random House Australia  \n",
       "84842           New Canadian Library  \n",
       "144510                      Fireside  "
      ]
     },
     "execution_count": 24,
     "metadata": {},
     "output_type": "execute_result"
    }
   ],
   "source": [
    "rmodel.recommended_books_table()"
   ]
  },
  {
   "cell_type": "markdown",
   "metadata": {},
   "source": [
    "#### Recommend books to a user [`103`]\n",
    "> * These are the books the interested user (i.e., `103`) has read:"
   ]
  },
  {
   "cell_type": "code",
   "execution_count": 25,
   "metadata": {},
   "outputs": [
    {
     "data": {
      "text/html": [
       "<div>\n",
       "<style scoped>\n",
       "    .dataframe tbody tr th:only-of-type {\n",
       "        vertical-align: middle;\n",
       "    }\n",
       "\n",
       "    .dataframe tbody tr th {\n",
       "        vertical-align: top;\n",
       "    }\n",
       "\n",
       "    .dataframe thead th {\n",
       "        text-align: right;\n",
       "    }\n",
       "</style>\n",
       "<table border=\"1\" class=\"dataframe\">\n",
       "  <thead>\n",
       "    <tr style=\"text-align: right;\">\n",
       "      <th></th>\n",
       "      <th>ISBN</th>\n",
       "      <th>Book-Title</th>\n",
       "      <th>Book-Author</th>\n",
       "      <th>Year-Of-Publication</th>\n",
       "      <th>Publisher</th>\n",
       "    </tr>\n",
       "  </thead>\n",
       "  <tbody>\n",
       "    <tr>\n",
       "      <th>18</th>\n",
       "      <td>87548</td>\n",
       "      <td>The Testament</td>\n",
       "      <td>John Grisham</td>\n",
       "      <td>1999</td>\n",
       "      <td>Dell</td>\n",
       "    </tr>\n",
       "    <tr>\n",
       "      <th>52</th>\n",
       "      <td>87337</td>\n",
       "      <td>The Street Lawyer</td>\n",
       "      <td>JOHN GRISHAM</td>\n",
       "      <td>1999</td>\n",
       "      <td>Dell</td>\n",
       "    </tr>\n",
       "    <tr>\n",
       "      <th>66</th>\n",
       "      <td>81140</td>\n",
       "      <td>Breathing Lessons</td>\n",
       "      <td>Anne Tyler</td>\n",
       "      <td>1994</td>\n",
       "      <td>Berkley Publishing Group</td>\n",
       "    </tr>\n",
       "    <tr>\n",
       "      <th>74</th>\n",
       "      <td>46340</td>\n",
       "      <td>Seabiscuit</td>\n",
       "      <td>LAURA HILLENBRAND</td>\n",
       "      <td>2003</td>\n",
       "      <td>Ballantine Books</td>\n",
       "    </tr>\n",
       "    <tr>\n",
       "      <th>202</th>\n",
       "      <td>8384</td>\n",
       "      <td>The God of Small Things</td>\n",
       "      <td>Arundhati Roy</td>\n",
       "      <td>1998</td>\n",
       "      <td>Perennial</td>\n",
       "    </tr>\n",
       "    <tr>\n",
       "      <th>...</th>\n",
       "      <td>...</td>\n",
       "      <td>...</td>\n",
       "      <td>...</td>\n",
       "      <td>...</td>\n",
       "      <td>...</td>\n",
       "    </tr>\n",
       "    <tr>\n",
       "      <th>15409</th>\n",
       "      <td>45039</td>\n",
       "      <td>Errands</td>\n",
       "      <td>Judith Guest</td>\n",
       "      <td>1998</td>\n",
       "      <td>Ballantine Books</td>\n",
       "    </tr>\n",
       "    <tr>\n",
       "      <th>15410</th>\n",
       "      <td>93356</td>\n",
       "      <td>Season of the Machete</td>\n",
       "      <td>James Patterson</td>\n",
       "      <td>1995</td>\n",
       "      <td>Warner Books</td>\n",
       "    </tr>\n",
       "    <tr>\n",
       "      <th>15411</th>\n",
       "      <td>18133</td>\n",
       "      <td>Vanished</td>\n",
       "      <td>Mary McGarry Morris</td>\n",
       "      <td>1997</td>\n",
       "      <td>Penguin Books</td>\n",
       "    </tr>\n",
       "    <tr>\n",
       "      <th>15412</th>\n",
       "      <td>92240</td>\n",
       "      <td>The General's Daughter</td>\n",
       "      <td>Nelson DeMille</td>\n",
       "      <td>1993</td>\n",
       "      <td>Warner Books</td>\n",
       "    </tr>\n",
       "    <tr>\n",
       "      <th>15413</th>\n",
       "      <td>144038</td>\n",
       "      <td>Silent Witness</td>\n",
       "      <td>Richard North Patterson</td>\n",
       "      <td>1997</td>\n",
       "      <td>Random House Inc</td>\n",
       "    </tr>\n",
       "  </tbody>\n",
       "</table>\n",
       "<p>76 rows × 5 columns</p>\n",
       "</div>"
      ],
      "text/plain": [
       "         ISBN               Book-Title              Book-Author  \\\n",
       "18      87548            The Testament             John Grisham   \n",
       "52      87337        The Street Lawyer             JOHN GRISHAM   \n",
       "66      81140        Breathing Lessons               Anne Tyler   \n",
       "74      46340               Seabiscuit        LAURA HILLENBRAND   \n",
       "202      8384  The God of Small Things            Arundhati Roy   \n",
       "...       ...                      ...                      ...   \n",
       "15409   45039                  Errands             Judith Guest   \n",
       "15410   93356    Season of the Machete          James Patterson   \n",
       "15411   18133                 Vanished      Mary McGarry Morris   \n",
       "15412   92240   The General's Daughter           Nelson DeMille   \n",
       "15413  144038           Silent Witness  Richard North Patterson   \n",
       "\n",
       "      Year-Of-Publication                 Publisher  \n",
       "18                   1999                      Dell  \n",
       "52                   1999                      Dell  \n",
       "66                   1994  Berkley Publishing Group  \n",
       "74                   2003          Ballantine Books  \n",
       "202                  1998                 Perennial  \n",
       "...                   ...                       ...  \n",
       "15409                1998          Ballantine Books  \n",
       "15410                1995              Warner Books  \n",
       "15411                1997             Penguin Books  \n",
       "15412                1993              Warner Books  \n",
       "15413                1997          Random House Inc  \n",
       "\n",
       "[76 rows x 5 columns]"
      ]
     },
     "execution_count": 25,
     "metadata": {},
     "output_type": "execute_result"
    }
   ],
   "source": [
    "books.loc[books['ISBN'].isin(ratings.loc[ratings['User-ID']==242, \"ISBN\"])]"
   ]
  },
  {
   "cell_type": "markdown",
   "metadata": {},
   "source": [
    "* These are the books recommended to the user:"
   ]
  },
  {
   "cell_type": "code",
   "execution_count": 26,
   "metadata": {},
   "outputs": [
    {
     "name": "stdout",
     "output_type": "stream",
     "text": [
      "Recommended book 1: 'Cold Mountain : A Novel' <====> Score: 4.5366387367248535\n",
      "Recommended book 2: 'The Poisonwood Bible: A Novel' <====> Score: 4.102079391479492\n",
      "Recommended book 3: 'The Lost Bird' <====> Score: 4.008647918701172\n",
      "Recommended book 4: 'The Two Towers (The Lord of the Rings, Part 2)' <====> Score: 3.964475631713867\n",
      "Recommended book 5: 'The Tightwad Gazette: Promoting Thrift As a Viable Alternative Lifestyle' <====> Score: 3.8773112297058105\n",
      "Recommended book 6: 'If... (Questions for the Game of Life)' <====> Score: 3.8523967266082764\n",
      "Recommended book 7: 'Prodigal Summer: A Novel' <====> Score: 3.8385207653045654\n",
      "Recommended book 8: \"The Color of Water: A Black Man's Tribute to His White Mother\" <====> Score: 3.797706127166748\n",
      "Recommended book 9: 'Schachnovelle' <====> Score: 3.7500617504119873\n",
      "Recommended book 10: 'A Painted House' <====> Score: 3.749603509902954\n"
     ]
    }
   ],
   "source": [
    "rmodel.recommend_books(242)"
   ]
  },
  {
   "cell_type": "markdown",
   "metadata": {},
   "source": [
    "More details about the different recommended books:"
   ]
  },
  {
   "cell_type": "code",
   "execution_count": 27,
   "metadata": {},
   "outputs": [
    {
     "data": {
      "text/html": [
       "<div>\n",
       "<style scoped>\n",
       "    .dataframe tbody tr th:only-of-type {\n",
       "        vertical-align: middle;\n",
       "    }\n",
       "\n",
       "    .dataframe tbody tr th {\n",
       "        vertical-align: top;\n",
       "    }\n",
       "\n",
       "    .dataframe thead th {\n",
       "        text-align: right;\n",
       "    }\n",
       "</style>\n",
       "<table border=\"1\" class=\"dataframe\">\n",
       "  <thead>\n",
       "    <tr style=\"text-align: right;\">\n",
       "      <th></th>\n",
       "      <th>ISBN</th>\n",
       "      <th>Book-Title</th>\n",
       "      <th>Book-Author</th>\n",
       "      <th>Year-Of-Publication</th>\n",
       "      <th>Publisher</th>\n",
       "    </tr>\n",
       "  </thead>\n",
       "  <tbody>\n",
       "    <tr>\n",
       "      <th>305</th>\n",
       "      <td>87704</td>\n",
       "      <td>A Painted House</td>\n",
       "      <td>John Grisham</td>\n",
       "      <td>2001</td>\n",
       "      <td>Dell Publishing Company</td>\n",
       "    </tr>\n",
       "    <tr>\n",
       "      <th>780</th>\n",
       "      <td>43427</td>\n",
       "      <td>The Two Towers (The Lord of the Rings, Part 2)</td>\n",
       "      <td>J.R.R. TOLKIEN</td>\n",
       "      <td>1986</td>\n",
       "      <td>Del Rey</td>\n",
       "    </tr>\n",
       "    <tr>\n",
       "      <th>1306</th>\n",
       "      <td>230898</td>\n",
       "      <td>The Color of Water: A Black Man's Tribute to H...</td>\n",
       "      <td>James McBride</td>\n",
       "      <td>1997</td>\n",
       "      <td>Riverhead Books</td>\n",
       "    </tr>\n",
       "    <tr>\n",
       "      <th>1373</th>\n",
       "      <td>7481</td>\n",
       "      <td>The Poisonwood Bible: A Novel</td>\n",
       "      <td>Barbara Kingsolver</td>\n",
       "      <td>1999</td>\n",
       "      <td>Perennial</td>\n",
       "    </tr>\n",
       "    <tr>\n",
       "      <th>1517</th>\n",
       "      <td>61870</td>\n",
       "      <td>Cold Mountain : A Novel</td>\n",
       "      <td>CHARLES FRAZIER</td>\n",
       "      <td>1998</td>\n",
       "      <td>Vintage</td>\n",
       "    </tr>\n",
       "    <tr>\n",
       "      <th>5065</th>\n",
       "      <td>7912</td>\n",
       "      <td>Prodigal Summer: A Novel</td>\n",
       "      <td>Barbara Kingsolver</td>\n",
       "      <td>2001</td>\n",
       "      <td>Perennial</td>\n",
       "    </tr>\n",
       "    <tr>\n",
       "      <th>6522</th>\n",
       "      <td>261606</td>\n",
       "      <td>Schachnovelle</td>\n",
       "      <td>Stefan Zweig</td>\n",
       "      <td>0</td>\n",
       "      <td>Fischer Taschenbuch Verlag</td>\n",
       "    </tr>\n",
       "    <tr>\n",
       "      <th>11210</th>\n",
       "      <td>143921</td>\n",
       "      <td>If... (Questions for the Game of Life)</td>\n",
       "      <td>Evelyn McFarlane</td>\n",
       "      <td>1995</td>\n",
       "      <td>Villard Books</td>\n",
       "    </tr>\n",
       "    <tr>\n",
       "      <th>11468</th>\n",
       "      <td>82330</td>\n",
       "      <td>The Lost Bird</td>\n",
       "      <td>Margaret Coel</td>\n",
       "      <td>2000</td>\n",
       "      <td>Berkley Publishing Group</td>\n",
       "    </tr>\n",
       "    <tr>\n",
       "      <th>32434</th>\n",
       "      <td>145142</td>\n",
       "      <td>The Tightwad Gazette: Promoting Thrift As a Vi...</td>\n",
       "      <td>Amy Dacyczyn</td>\n",
       "      <td>1993</td>\n",
       "      <td>Random House Inc</td>\n",
       "    </tr>\n",
       "  </tbody>\n",
       "</table>\n",
       "</div>"
      ],
      "text/plain": [
       "         ISBN                                         Book-Title  \\\n",
       "305     87704                                    A Painted House   \n",
       "780     43427     The Two Towers (The Lord of the Rings, Part 2)   \n",
       "1306   230898  The Color of Water: A Black Man's Tribute to H...   \n",
       "1373     7481                      The Poisonwood Bible: A Novel   \n",
       "1517    61870                            Cold Mountain : A Novel   \n",
       "5065     7912                           Prodigal Summer: A Novel   \n",
       "6522   261606                                      Schachnovelle   \n",
       "11210  143921             If... (Questions for the Game of Life)   \n",
       "11468   82330                                      The Lost Bird   \n",
       "32434  145142  The Tightwad Gazette: Promoting Thrift As a Vi...   \n",
       "\n",
       "              Book-Author Year-Of-Publication                   Publisher  \n",
       "305          John Grisham                2001     Dell Publishing Company  \n",
       "780        J.R.R. TOLKIEN                1986                     Del Rey  \n",
       "1306        James McBride                1997             Riverhead Books  \n",
       "1373   Barbara Kingsolver                1999                   Perennial  \n",
       "1517      CHARLES FRAZIER                1998                     Vintage  \n",
       "5065   Barbara Kingsolver                2001                   Perennial  \n",
       "6522         Stefan Zweig                   0  Fischer Taschenbuch Verlag  \n",
       "11210    Evelyn McFarlane                1995               Villard Books  \n",
       "11468       Margaret Coel                2000    Berkley Publishing Group  \n",
       "32434        Amy Dacyczyn                1993            Random House Inc  "
      ]
     },
     "execution_count": 27,
     "metadata": {},
     "output_type": "execute_result"
    }
   ],
   "source": [
    "rmodel.recommended_books_table()"
   ]
  },
  {
   "cell_type": "code",
   "execution_count": null,
   "metadata": {},
   "outputs": [],
   "source": []
  }
 ],
 "metadata": {
  "kernelspec": {
   "display_name": "venv",
   "language": "python",
   "name": "python3"
  },
  "language_info": {
   "codemirror_mode": {
    "name": "ipython",
    "version": 3
   },
   "file_extension": ".py",
   "mimetype": "text/x-python",
   "name": "python",
   "nbconvert_exporter": "python",
   "pygments_lexer": "ipython3",
   "version": "3.11.0"
  },
  "orig_nbformat": 4,
  "vscode": {
   "interpreter": {
    "hash": "d722206fe92351b8000764b72b896fe86bf5b2de20e2a40d3d83588bde24bf9f"
   }
  }
 },
 "nbformat": 4,
 "nbformat_minor": 2
}
