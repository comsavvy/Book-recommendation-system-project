{
 "cells": [
  {
   "cell_type": "markdown",
   "metadata": {},
   "source": [
    "# Deep Learning $for$ Book Recommending System\n",
    "This is a project on a Recommendation system that suggest different books to users based on their past behavior i.e., likings and ratings. \n",
    "## About the dataset:\n",
    "The Book-Crossing dataset can be found on the following website:\n",
    "\n",
    "http://www2.informatik.uni-freiburg.de/~cziegler/BX/\n",
    "\n",
    "This dataset is a collaborative filtering dataset and contains information about users, books, and ratings. It was collected by Cai-Nicolas Ziegler in a 4-week crawl (August / September 2004) from the Book-Crossing community, and contains 278,858 users (anonymized) providing 1,149,780 ratings (explicit / implicit) about 271,379 books."
   ]
  },
  {
   "attachments": {},
   "cell_type": "markdown",
   "metadata": {},
   "source": [
    "## Load all necessary libraries\n",
    "This section is about importing all libraries that will make the project walkthrough a success without an error."
   ]
  },
  {
   "cell_type": "code",
   "execution_count": null,
   "metadata": {},
   "outputs": [],
   "source": [
    "import numpy as np\n",
    "import pandas as pd\n",
    "import seaborn as sns\n",
    "from sklearn.preprocessing import LabelEncoder\n",
    "import tensorflow as tf"
   ]
  },
  {
   "attachments": {},
   "cell_type": "markdown",
   "metadata": {},
   "source": [
    "## Load the datasets into this workspace"
   ]
  },
  {
   "cell_type": "code",
   "execution_count": null,
   "metadata": {},
   "outputs": [],
   "source": [
    "ratings = pd.read_csv(\"BX-CSV/BX-Book-Ratings.csv\", delimiter=\";\", on_bad_lines='skip')\n",
    "books = pd.read_csv(\"BX-CSV/BX-Books.csv\", delimiter=\";\", on_bad_lines='skip', low_memory=False)\n",
    "users = pd.read_csv(\"BX-CSV/BX-Users.csv\", delimiter=\";\", on_bad_lines='skip')"
   ]
  }
 ],
 "metadata": {
  "language_info": {
   "name": "python"
  },
  "orig_nbformat": 4
 },
 "nbformat": 4,
 "nbformat_minor": 2
}
